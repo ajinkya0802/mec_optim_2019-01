{
 "cells": [
  {
   "cell_type": "markdown",
   "metadata": {},
   "source": [
    "# Lecture 3"
   ]
  },
  {
   "cell_type": "markdown",
   "metadata": {},
   "source": [
    "## Preventive maintainence"
   ]
  },
  {
   "cell_type": "markdown",
   "metadata": {},
   "source": [
    "Harold Zurcher's problem: The state $x\\in\\mathcal{X}=\\left\\{x_{0},...,\\bar{x}\\right\\}$ of each bus at each period $t$ is the mileage since last overhaul. The transition between states is as follows:\n",
    "* When no overhaul is performed, these states undergo random transitions (depending on how much the bus is used): $x_{i}\\rightarrow x_{i^{\\prime}}$ with some probability $P_{i^{\\prime}|i}$, where $i^{\\prime}\\geq i$.\n",
    "\n",
    "* When overhaul is performed on a bus, the state is restored to the zero state $x_{0}$.\n",
    "\n",
    "There is a fixed cost $C$ associated with overhaul (independent of mileage), while operations costs $c\\left(  x\\right)$ increase with mileage (maintenance, fuel, insurance and costs of nexpected breakdowns)."
   ]
  },
  {
   "cell_type": "markdown",
   "metadata": {},
   "source": [
    "## Translating the problem"
   ]
  },
  {
   "cell_type": "markdown",
   "metadata": {},
   "source": [
    "Assume the states are discretized into $12,500$ mile brackets."
   ]
  },
  {
   "cell_type": "markdown",
   "metadata": {},
   "source": [
    "There are $30$ states, so $\\mathcal{X}=\\left\\{  1,...,30\\right\\}$: `nbX = 30`."
   ]
  },
  {
   "cell_type": "markdown",
   "metadata": {},
   "source": [
    "The choice set is $\\mathcal{Y}=\\left\\{  y_{0}=1,y_{1}=2\\right\\}$ (operate or overhaul): `nbY = 2`."
   ]
  },
  {
   "cell_type": "markdown",
   "metadata": {},
   "source": [
    "There are $40$ periods (quarter years over $10$ years): `nbT = 40`."
   ]
  },
  {
   "cell_type": "code",
   "execution_count": 1,
   "metadata": {},
   "outputs": [
    {
     "name": "stderr",
     "output_type": "stream",
     "text": [
      "Loading required package: slam\n"
     ]
    }
   ],
   "source": [
    "library(\"Matrix\")\n",
    "library(\"gurobi\")\n",
    "nbX = 30  #30\n",
    "nbT = 40  #40\n",
    "nbY = 2  # choice set: 1=run as usual; 2=overhaul"
   ]
  },
  {
   "cell_type": "markdown",
   "metadata": {},
   "source": [
    "#### Transitions:\n",
    "* If no overhaul is performed, each state but the last one has a probability $25\\%$ of transiting to the next one, and probability $75\\%$ of remaining the same. The last state transits to $1$ with probability $25\\%$ (overhaul is performed when beyond last state).\n",
    "\n",
    "* If overhaul is performed, the state transits to $1$ for sure."
   ]
  },
  {
   "cell_type": "markdown",
   "metadata": {},
   "source": [
    "We are going to solve the dual problem \n",
    "\\begin{align*}\n",
    "\\min_{U}  & \\, b^{\\intercal}U\\\\\n",
    "s.t.~  &  AU\\geq u~\\left[  \\pi\\right] \n",
    "\\end{align*}"
   ]
  },
  {
   "cell_type": "markdown",
   "metadata": {},
   "source": [
    "First let's construct our constraint matrix $A$."
   ]
  },
  {
   "cell_type": "markdown",
   "metadata": {},
   "source": [
    "We build the transition matrix $P_{x^{\\prime}|xy}$ matrix of dimension `nbXnbY`$\\times$ `nbX`"
   ]
  },
  {
   "cell_type": "markdown",
   "metadata": {},
   "source": [
    "Let\n",
    "\\begin{align*}\n",
    "L_{\\mathcal{X}}=%\n",
    "\\begin{pmatrix}\n",
    "0 & 1 & 0 & 0\\\\\n",
    "0 & \\ddots & \\ddots & 0\\\\\n",
    "0 & \\ddots & \\ddots & 1\\\\\n",
    "1 & 0 & 0 & 0\n",
    "\\end{pmatrix}\n",
    "\\text{ and }R_{\\mathcal{X}}=%\n",
    "\\begin{pmatrix}\n",
    "1 & 0 & \\cdots & 0\\\\\n",
    "1 & \\vdots & \\ddots  & \\vdots\\\\\n",
    "1 & \\vdots &  \\ddots & \\vdots\\\\\n",
    "1 & 0 & \\cdots & 0\n",
    "\\end{pmatrix}\n",
    "\\end{align*}\n",
    "so that $P$ is given by\n",
    "\\begin{align*}\n",
    "P=1_{y_{0}}\\otimes\\left(  0.75I_{\\mathcal{X}}+0.25L_{\\mathcal{X}}\\right)\n",
    "+1_{y_{1}}\\otimes R_{\\mathcal{X}}%\n",
    "\\end{align*}"
   ]
  },
  {
   "cell_type": "markdown",
   "metadata": {},
   "source": [
    "Which in R looks like"
   ]
  },
  {
   "cell_type": "code",
   "execution_count": 2,
   "metadata": {},
   "outputs": [],
   "source": [
    "IdX = sparseMatrix(1:nbX, 1:nbX)\n",
    "LX = sparseMatrix(c(nbX, 1:(nbX - 1)), 1:nbX)\n",
    "RX = sparseMatrix(1:nbX, rep(1, nbX), dims = c(nbX, nbX))\n",
    "P = kronecker(c(1, 0), 0.75 * IdX + 0.25 * LX) + kronecker(c(0, 1), RX)"
   ]
  },
  {
   "cell_type": "markdown",
   "metadata": {},
   "source": [
    "Recall the constraint matrix $A$ can be expressed as\n",
    "\\begin{align*}\n",
    "A &= I_{\\mathcal{T}}\\otimes J-N_{\\mathcal{T}}\\otimes P \\\\\n",
    "  &= I_{\\mathcal{T}} \\otimes1_{\\mathcal{Y}}\\otimes I_{\\mathcal{X}}-N_{\\mathcal{T}}\\otimes P.\n",
    "\\end{align*}\n",
    "where\n",
    "\\begin{align*}\n",
    "N_{\\mathcal{T}}=\n",
    "\\begin{pmatrix}\n",
    "0 & 1 & 0 & \\cdots & 0\\\\\n",
    "\\vdots & \\ddots & \\ddots &  & \\vdots\\\\\n",
    "&  & \\ddots & \\ddots & 0\\\\\n",
    "\\vdots &  &  & \\ddots & 1\\\\\n",
    "0 & \\cdots &  & \\cdots & 0\n",
    "\\end{pmatrix}\n",
    "\\end{align*}"
   ]
  },
  {
   "cell_type": "code",
   "execution_count": 3,
   "metadata": {},
   "outputs": [],
   "source": [
    "IdT = sparseMatrix(1:nbT, 1:nbT)\n",
    "NT = sparseMatrix(1:(nbT - 1), 2:nbT, dims = c(nbT, nbT))\n",
    "A = kronecker(kronecker(IdT, matrix(1, nbY, 1)), IdX) - kronecker(NT, P)"
   ]
  },
  {
   "cell_type": "markdown",
   "metadata": {},
   "source": [
    "#### Costs:\n",
    "* The cost of replacing an engine is $C=\\$8,000$ (in $1985$ dollars).\n",
    "\n",
    "* The operations cost is $c\\left(  x\\right)  =x\\times5.10^{2}.$"
   ]
  },
  {
   "cell_type": "markdown",
   "metadata": {},
   "source": [
    "The discount factor is $\\beta=0.9$."
   ]
  },
  {
   "cell_type": "code",
   "execution_count": 4,
   "metadata": {},
   "outputs": [],
   "source": [
    "overhaulCost = 8000\n",
    "maintCost = function(x) (x * 500)\n",
    "beta = 0.9"
   ]
  },
  {
   "cell_type": "markdown",
   "metadata": {},
   "source": [
    "Next, we build $u_{xyt}$ \n",
    "* First the $u_{xy}$'s so that $u_{x1}=-x\\times5.10^{2}$ for $x<\\bar{x}$, and $u_{\\bar{x}1}=-C$, while $u_{x2}=-C$ for all $x$.\n",
    "\n",
    "* Next the $u_{xyt}$ so that $u_{xyt}=u_{xy}\\beta^{t}=vec\\left(\\left(\\beta^{1},...,\\beta^{T}\\right)  \\otimes u_{xy}\\right)$\n",
    "\n",
    "Finially we build $b_{xt}$"
   ]
  },
  {
   "cell_type": "code",
   "execution_count": 5,
   "metadata": {},
   "outputs": [
    {
     "name": "stdout",
     "output_type": "stream",
     "text": [
      " [1] -10725.48 -13593.28 -15735.67 -16830.22 -16830.22 -16830.22 -16830.22\n",
      " [8] -16830.22 -16830.22 -16830.22 -16830.22 -16830.22 -16830.22 -16830.22\n",
      "[15] -16830.22 -16830.22 -16830.22 -16830.22 -16830.22 -16830.22 -16830.22\n",
      "[22] -16830.22 -16830.22 -16830.22 -16830.22 -16830.22 -16830.22 -16830.22\n",
      "[29] -16830.22 -16830.22\n"
     ]
    }
   ],
   "source": [
    "n1_x = rep(1, nbX)\n",
    "u_xy = c(-maintCost(1:(nbX - 1)), rep(-overhaulCost, nbX + 1))\n",
    "u_xyt = c(kronecker(beta^(1:nbT), u_xy))\n",
    "\n",
    "b_xt = c(n1_x, rep(0, nbX * (nbT - 1)))\n",
    "\n",
    "result = gurobi(list(A = A, obj = c(b_xt), modelsense = \"min\", rhs = u_xyt, sense = \">\", \n",
    "    lb = -Inf), params = list(OutputFlag = 0))\n",
    "\n",
    "U_x_t_gurobi = array(result$x, dim = c(nbX, nbT))\n",
    "\n",
    "print(U_x_t_gurobi[, 1])"
   ]
  },
  {
   "cell_type": "markdown",
   "metadata": {},
   "source": [
    "## Backward induction"
   ]
  },
  {
   "cell_type": "markdown",
   "metadata": {},
   "source": [
    "The smarter way to approach this problem is of course using backwards induction"
   ]
  },
  {
   "cell_type": "code",
   "execution_count": 6,
   "metadata": {},
   "outputs": [],
   "source": [
    "U_x_t = matrix(0, nbX, nbT)\n",
    "contVals = apply(X = array(u_xyt, dim = c(nbX, nbY, nbT))[, , nbT], FUN = max, MARGIN = 1)\n",
    "U_x_t[, nbT] = contVals\n",
    "\n",
    "for (t in (nbT - 1):1) {\n",
    "    myopic = array(u_xyt, dim = c(nbX, nbY, nbT))[, , t]\n",
    "    Econtvals = matrix(P %*% contVals, nrow = nbX)\n",
    "    \n",
    "    contVals = apply(X = myopic + Econtvals, FUN = max, MARGIN = 1)\n",
    "    U_x_t[, t] = contVals\n",
    "}"
   ]
  },
  {
   "cell_type": "markdown",
   "metadata": {},
   "source": [
    "Which give identical solutions to using LP"
   ]
  },
  {
   "cell_type": "code",
   "execution_count": 7,
   "metadata": {},
   "outputs": [
    {
     "name": "stdout",
     "output_type": "stream",
     "text": [
      " [1] -10725.48 -13593.28 -15735.67 -16830.22 -16830.22 -16830.22 -16830.22\n",
      " [8] -16830.22 -16830.22 -16830.22 -16830.22 -16830.22 -16830.22 -16830.22\n",
      "[15] -16830.22 -16830.22 -16830.22 -16830.22 -16830.22 -16830.22 -16830.22\n",
      "[22] -16830.22 -16830.22 -16830.22 -16830.22 -16830.22 -16830.22 -16830.22\n",
      "[29] -16830.22 -16830.22\n"
     ]
    }
   ],
   "source": [
    "print(U_x_t[,1])"
   ]
  },
  {
   "cell_type": "code",
   "execution_count": null,
   "metadata": {},
   "outputs": [],
   "source": []
  }
 ],
 "metadata": {
  "kernelspec": {
   "display_name": "R",
   "language": "R",
   "name": "ir"
  },
  "language_info": {
   "codemirror_mode": "r",
   "file_extension": ".r",
   "mimetype": "text/x-r-source",
   "name": "R",
   "pygments_lexer": "r",
   "version": "3.5.2"
  }
 },
 "nbformat": 4,
 "nbformat_minor": 2
}
