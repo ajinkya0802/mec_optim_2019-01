{
 "cells": [
  {
   "cell_type": "markdown",
   "metadata": {},
   "source": [
    "# Lecture 11"
   ]
  },
  {
   "cell_type": "markdown",
   "metadata": {},
   "source": [
    "We shall code the AR simulator for the probit model and then invert it using the inversion theorem."
   ]
  },
  {
   "cell_type": "markdown",
   "metadata": {},
   "source": [
    "Take a vector of systematic utilities"
   ]
  },
  {
   "cell_type": "code",
   "execution_count": 1,
   "metadata": {},
   "outputs": [
    {
     "name": "stderr",
     "output_type": "stream",
     "text": [
      "Loading required package: slam\n"
     ]
    }
   ],
   "source": [
    "library(Matrix)\n",
    "library(gurobi)\n",
    "#seed = 777\n",
    "#set.seed(seed)\n",
    "U_y = c(0.4, 0.5, 0.2, 0.3, 0.1, 0)"
   ]
  },
  {
   "cell_type": "markdown",
   "metadata": {},
   "source": [
    "Simulate the market shares using the AR simulator"
   ]
  },
  {
   "cell_type": "code",
   "execution_count": 2,
   "metadata": {},
   "outputs": [],
   "source": [
    "nbDraws = 1E6\n",
    "nbY = length(U_y)\n",
    "rho = 0.5\n",
    "\n",
    "Covar =  rho * matrix(1,nbY,nbY) + (1-rho) * diag(1,nbY)\n",
    "E = eigen(Covar)\n",
    "V = E$values \n",
    "Q = E$vectors\n",
    "SqrtCovar = Q%*%diag(sqrt(V))%*%t(Q) \n",
    "epsilon_iy = matrix(rnorm(nbDraws*nbY),ncol=nbY) %*% SqrtCovar\n",
    "#\n",
    "u_iy = t(t(epsilon_iy)+U_y) \n",
    "ui = apply(X = u_iy, MARGIN  = 1, FUN = max)\n",
    "s_y = apply(X = u_iy - ui, MARGIN = 2,FUN = function(v) (length(which(v==0)))) / nbDraws"
   ]
  },
  {
   "cell_type": "markdown",
   "metadata": {},
   "source": [
    "To invert the market share, simply run the optimal assignment problem"
   ]
  },
  {
   "cell_type": "code",
   "execution_count": null,
   "metadata": {},
   "outputs": [],
   "source": [
    "A1 = kronecker(matrix(1,1,nbY),sparseMatrix(1:nbDraws,1:nbDraws))\n",
    "A2 = kronecker(sparseMatrix(1:nbY,1:nbY),matrix(1,1,nbDraws))\n",
    "A = rbind2(A1,A2)\n",
    "result = gurobi(list(A=A,obj=c(epsilon_iy),modelsense=\"max\",rhs=c(rep(1/nbDraws,nbDraws),s_y) ,sense=\"=\"), params=list(OutputFlag=0)) \n",
    "Uhat_y = -result$pi[(1+nbDraws):(nbY+nbDraws)] + result$pi[(nbY+nbDraws)]\n",
    "\n",
    "print(\"U_y (true and recovered)\")\n",
    "print(U_y)\n",
    "print(Uhat_y)"
   ]
  },
  {
   "cell_type": "markdown",
   "metadata": {},
   "source": [
    "## BLP Data"
   ]
  },
  {
   "cell_type": "markdown",
   "metadata": {},
   "source": [
    "Let's take a look through the data of the Berry, Levinsohn and Pakes (1995), often referred to as BLP."
   ]
  },
  {
   "cell_type": "markdown",
   "metadata": {},
   "source": [
    "This data comes from the High Dimensional Metrics library (hdm) library. Instead of installing the package and retreiving the data (which takes a while because we need to compile these of the library), we will instead just load it up directly"
   ]
  },
  {
   "cell_type": "code",
   "execution_count": null,
   "metadata": {},
   "outputs": [],
   "source": [
    "load(\"BLPdata.Rdata\")\n",
    "BLPData\n",
    "data = as.matrix(BLPData)"
   ]
  },
  {
   "cell_type": "code",
   "execution_count": null,
   "metadata": {},
   "outputs": [],
   "source": []
  }
 ],
 "metadata": {
  "kernelspec": {
   "display_name": "R",
   "language": "R",
   "name": "ir"
  },
  "language_info": {
   "codemirror_mode": "r",
   "file_extension": ".r",
   "mimetype": "text/x-r-source",
   "name": "R",
   "pygments_lexer": "r",
   "version": "3.5.2"
  }
 },
 "nbformat": 4,
 "nbformat_minor": 2
}
