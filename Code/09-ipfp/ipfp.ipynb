{
 "cells": [
  {
   "cell_type": "markdown",
   "metadata": {},
   "source": [
    "# Lecture 9"
   ]
  },
  {
   "cell_type": "markdown",
   "metadata": {},
   "source": [
    "We will return to our marriage example from Lecture 4. We will do this both using synthetic data and real data."
   ]
  },
  {
   "cell_type": "code",
   "execution_count": 18,
   "metadata": {},
   "outputs": [],
   "source": [
    "library(gurobi)\n",
    "library(Matrix)\n",
    "library(tictoc)\n",
    "syntheticData = TRUE\n",
    "doGurobi = TRUE\n",
    "doIPFP1 = FALSE\n",
    "doIPFP2 = TRUE\n",
    "\n",
    "tol = 1e-09\n",
    "maxiter = 1e+06\n",
    "sigma = 0.1  # note: 0.1 to 0.001"
   ]
  },
  {
   "cell_type": "markdown",
   "metadata": {},
   "source": [
    "Let's generate some synthetic data, or load up the `affinitymatrix.csv`, `Xvals.csv` and `Yvals.csv` that you will recall from Lecture 4."
   ]
  },
  {
   "cell_type": "code",
   "execution_count": 19,
   "metadata": {},
   "outputs": [],
   "source": [
    "if (syntheticData) {\n",
    "    seed = 777\n",
    "    nbX = 10\n",
    "    nbY = 8\n",
    "    set.seed(seed)\n",
    "    Phi = matrix(runif(nbX * nbY), nrow = nbX)\n",
    "    p = rep(1/nbX, nbX)\n",
    "    q = rep(1/nbY, nbY)\n",
    "} else {\n",
    "    thePath = getwd()\n",
    "    data = as.matrix(read.csv(paste0(thePath, \"/affinitymatrix.csv\"), sep = \",\", \n",
    "        header = TRUE))  # loads the data\n",
    "    nbcar = 10\n",
    "    A = matrix(as.numeric(data[1:nbcar, 2:(nbcar + 1)]), nbcar, nbcar)\n",
    "    \n",
    "    data = as.matrix(read.csv(paste0(thePath, \"/Xvals.csv\"), sep = \",\", header = TRUE))  # loads the data\n",
    "    Xvals = matrix(as.numeric(data[, 1:nbcar]), ncol = nbcar)\n",
    "    data = as.matrix(read.csv(paste0(thePath, \"/Yvals.csv\"), sep = \",\", header = TRUE))  # loads the data\n",
    "    Yvals = matrix(as.numeric(data[, 1:nbcar]), ncol = nbcar)\n",
    "    sdX = apply(Xvals, 2, sd)\n",
    "    sdY = apply(Yvals, 2, sd)\n",
    "    mX = apply(Xvals, 2, mean)\n",
    "    mY = apply(Yvals, 2, mean)\n",
    "    Xvals = t((t(Xvals) - mX)/sdX)\n",
    "    Yvals = t((t(Yvals) - mY)/sdY)\n",
    "    nobs = dim(Xvals)[1]\n",
    "    Phi = Xvals %*% A %*% t(Yvals)\n",
    "    p = rep(1/nobs, nobs)\n",
    "    q = rep(1/nobs, nobs)\n",
    "    nbX = length(p)\n",
    "    nbY = length(q)\n",
    "}\n",
    "nrow = min(8, nbX)\n",
    "ncol = min(8, nbY)"
   ]
  },
  {
   "cell_type": "markdown",
   "metadata": {},
   "source": [
    "We are going to run a horse race between solving this problem using Gurobi and two IPFP algorithms."
   ]
  },
  {
   "cell_type": "markdown",
   "metadata": {},
   "source": [
    "First Gurobi"
   ]
  },
  {
   "cell_type": "code",
   "execution_count": 20,
   "metadata": {},
   "outputs": [
    {
     "name": "stdout",
     "output_type": "stream",
     "text": [
      "0.02 sec elapsed\n",
      "[1] \"Value of the problem (Gurobi) = 0.869151732779574\"\n",
      "[1] -0.29191338 -0.36441451 -0.24172456 -0.07125784 -0.15843220 -0.28708162\n",
      "[7] -0.37751187  0.00000000\n",
      "[1] 1.0663077 1.0247037 1.1065443 1.1264727 1.2761079 0.9572269 1.0530869\n",
      "[8] 1.1938532\n",
      "[1] \"***********************\"\n"
     ]
    }
   ],
   "source": [
    "if (doGurobi) {\n",
    "    A1 = kronecker(matrix(1, 1, nbY), sparseMatrix(1:nbX, 1:nbX))\n",
    "    A2 = kronecker(sparseMatrix(1:nbY, 1:nbY), matrix(1, 1, nbX))\n",
    "    A = rbind2(A1, A2)\n",
    "    \n",
    "    d = c(p, q)\n",
    "    \n",
    "    tic()\n",
    "    result = gurobi(list(A = A, obj = c(Phi), modelsense = \"max\", rhs = d, sense = \"=\"), \n",
    "        params = list(OutputFlag = 0))\n",
    "    toc()\n",
    "    \n",
    "    if (result$status == \"OPTIMAL\") {\n",
    "        pi = matrix(result$x, nrow = nbX)\n",
    "        u_gurobi = result$pi[1:nbX]\n",
    "        v_gurobi = result$pi[(nbX + 1):(nbX + nbY)]\n",
    "        val_gurobi = result$objval\n",
    "    } else {\n",
    "        stop(\"optimization problem with Gurobi.\")\n",
    "    }\n",
    "    \n",
    "    print(paste0(\"Value of the problem (Gurobi) = \", val_gurobi))\n",
    "    print(u_gurobi[1:nrow] - u_gurobi[nrow])\n",
    "    print(v_gurobi[1:ncol] + u_gurobi[nrow])\n",
    "    print(\"***********************\")\n",
    "}"
   ]
  },
  {
   "cell_type": "markdown",
   "metadata": {},
   "source": [
    "Next IPFP."
   ]
  },
  {
   "cell_type": "markdown",
   "metadata": {},
   "source": [
    "The iterated proportional fitting procedure (IPFP) consists of taking an initial guess $B^0(x)$ and doing\n",
    "\\begin{align*}\n",
    "A^{1}(x) &= f_P(x) / \\int_{\\mathcal{Y}}K(x,y)B^0(y) dy \\\\\n",
    "B^1(y) &= f_Q(y) / \\int_{\\mathcal{X}}K(x,y)A^1(x) dx\n",
    "\\end{align*}\n",
    "and iterate.\n",
    "\\begin{align*}\n",
    "A(x) &= \\exp(-u(x) / \\sigma) \\\\\n",
    "B(x) &= \\exp(-v(y) / \\sigma) \\\\\n",
    "K(x,y) &= \\exp(x'y/ \\sigma)\n",
    "\\end{align*}"
   ]
  },
  {
   "cell_type": "code",
   "execution_count": 21,
   "metadata": {},
   "outputs": [
    {
     "name": "stdout",
     "output_type": "stream",
     "text": [
      "0.06 sec elapsed\n",
      "[1] \"IPFP1 converged in 59 steps\"\n",
      "[1] \"Value of the problem (IPFP1) = 1.17810676894248\"\n",
      "[1] \"Sum(pi*Phi) (IPFP1) = 0.842657479124696\"\n",
      "[1] -0.1960913 -0.2920093 -0.1694472 -0.1817577 -0.1516859 -0.1758683 -0.2942356\n",
      "[8]  0.0000000\n",
      "[1] 1.412527 1.314859 1.370709 1.393089 1.468269 1.204802 1.364797 1.413045\n"
     ]
    }
   ],
   "source": [
    "tic()\n",
    "cont = TRUE\n",
    "iter = 0\n",
    "\n",
    "K = exp(Phi/sigma)\n",
    "B = rep(1, nbY)  # Guess B = vector of ones\n",
    "while (cont) {\n",
    "    iter = iter + 1\n",
    "    A = p/c(K %*% B)\n",
    "    KA = c(t(A) %*% K)\n",
    "    error = max(abs(KA * B/q - 1))\n",
    "    if ((error < tol) | (iter >= maxiter)) {\n",
    "        cont = FALSE\n",
    "    }\n",
    "    B = q/KA\n",
    "}\n",
    "u = -sigma * log(A)\n",
    "v = -sigma * log(B)\n",
    "pi = (K * A) * matrix(B, nbX, nbY, byrow = T)\n",
    "val = sum(pi * Phi) - sigma * sum(pi * log(pi))\n",
    "toc()\n",
    "\n",
    "if (iter >= maxiter) {\n",
    "    print(\"Maximum number of iterations reached in IPFP1.\")\n",
    "} else {\n",
    "    print(paste0(\"IPFP1 converged in \", iter, \" steps\"))\n",
    "    print(paste0(\"Value of the problem (IPFP1) = \", val))\n",
    "    print(paste0(\"Sum(pi*Phi) (IPFP1) = \", sum(pi * Phi)))\n",
    "    print(u[1:nrow] - u[nrow])\n",
    "    print(v[1:ncol] + u[nrow])\n",
    "}"
   ]
  },
  {
   "cell_type": "markdown",
   "metadata": {},
   "source": [
    "The previous program is extremely fast, partly due to the fact that it involves linear algebra operations. However, it breaks down when $\\sigma$ is small; this is best seen taking a $\\log$ transform and returning to\n",
    "\\begin{align*}\n",
    "u^k(x) &= \\mu(x) + \\sigma \\log \\int_{\\mathcal{Y}}\\exp\\left(\\frac{x'y - v^{k-1}(y)}{\\sigma}\\right) dy \\\\\n",
    "v^k(x) &= \\nu(y) + \\sigma \\log \\int_{\\mathcal{X}}\\exp\\left(\\frac{x'y - u{k}(y)}{\\sigma}\\right) dx\n",
    "\\end{align*}\n",
    "where $\\mu(x) = -\\sigma \\log f_P(x)$ and $\\nu(x) = -\\sigma \\log f_Q(y)$."
   ]
  },
  {
   "cell_type": "code",
   "execution_count": 22,
   "metadata": {},
   "outputs": [
    {
     "ename": "ERROR",
     "evalue": "Error in if ((error < tol) | (iter >= maxiter)) {: missing value where TRUE/FALSE needed\n",
     "output_type": "error",
     "traceback": [
      "Error in if ((error < tol) | (iter >= maxiter)) {: missing value where TRUE/FALSE needed\nTraceback:\n"
     ]
    }
   ],
   "source": [
    "sigma = 0.001\n",
    "tic()\n",
    "iter = 0\n",
    "cont = TRUE\n",
    "v = rep(0, nbY)\n",
    "mu = -sigma * log(p)\n",
    "nu = -sigma * log(q)\n",
    "\n",
    "while (cont) {\n",
    "    # print(iter)\n",
    "    iter = iter + 1\n",
    "    u = mu + sigma * log(apply(exp((Phi - matrix(v, nbX, nbY, byrow = T))/sigma), \n",
    "        1, sum))\n",
    "    KA = apply(exp((Phi - u)/sigma), 2, sum)\n",
    "    error = max(abs(KA * exp(-v/sigma)/q - 1))\n",
    "    if ((error < tol) | (iter >= maxiter)) {\n",
    "        cont = FALSE\n",
    "    }\n",
    "    \n",
    "    v = nu + sigma * log(KA)\n",
    "}\n",
    "pi = exp((Phi - u - matrix(v, nbX, nbY, byrow = T))/sigma)\n",
    "val = sum(pi * Phi) - sigma * sum((pi * log(pi))[which(pi != 0)])\n",
    "time = proc.time() - ptm\n",
    "\n",
    "if (iter >= maxiter) {\n",
    "    print(\"Maximum number of iterations reached in IPFP1bis.\")\n",
    "} else {\n",
    "    print(paste0(\"IPFP1bis converged in \", iter, \" steps and \", time[1], \"s.\"))\n",
    "    print(paste0(\"Value of the problem (IPFP1bis) = \", val))\n",
    "    print(paste0(\"Sum(pi*Phi) (IPFP1bis) = \", sum(pi * Phi)))\n",
    "    print(u[1:nrow] - u[nrow])\n",
    "    print(v[1:ncol] + u[nrow])\n",
    "}"
   ]
  },
  {
   "cell_type": "markdown",
   "metadata": {},
   "source": [
    "One sees what may go wrong: if $x'y - v^{k-1}(y)$ is positive in the exponential in the first sum, then the exponential blows up due to the small $\\sigma$ in the denominator. "
   ]
  },
  {
   "cell_type": "code",
   "execution_count": 28,
   "metadata": {},
   "outputs": [
    {
     "data": {
      "text/html": [
       "<ol class=list-inline>\n",
       "\t<li>Inf</li>\n",
       "\t<li>Inf</li>\n",
       "\t<li>Inf</li>\n",
       "\t<li>Inf</li>\n",
       "\t<li>Inf</li>\n",
       "\t<li>Inf</li>\n",
       "\t<li>Inf</li>\n",
       "\t<li>Inf</li>\n",
       "\t<li>Inf</li>\n",
       "\t<li>Inf</li>\n",
       "</ol>\n"
      ],
      "text/latex": [
       "\\begin{enumerate*}\n",
       "\\item Inf\n",
       "\\item Inf\n",
       "\\item Inf\n",
       "\\item Inf\n",
       "\\item Inf\n",
       "\\item Inf\n",
       "\\item Inf\n",
       "\\item Inf\n",
       "\\item Inf\n",
       "\\item Inf\n",
       "\\end{enumerate*}\n"
      ],
      "text/markdown": [
       "1. Inf\n",
       "2. Inf\n",
       "3. Inf\n",
       "4. Inf\n",
       "5. Inf\n",
       "6. Inf\n",
       "7. Inf\n",
       "8. Inf\n",
       "9. Inf\n",
       "10. Inf\n",
       "\n",
       "\n"
      ],
      "text/plain": [
       " [1] Inf Inf Inf Inf Inf Inf Inf Inf Inf Inf"
      ]
     },
     "metadata": {},
     "output_type": "display_data"
    }
   ],
   "source": [
    "u"
   ]
  },
  {
   "cell_type": "markdown",
   "metadata": {},
   "source": [
    "We can see that it blows up!"
   ]
  },
  {
   "cell_type": "markdown",
   "metadata": {},
   "source": [
    "However, a very simple trick, called the \"log-sum-exp trick\" can avoid this issue."
   ]
  },
  {
   "cell_type": "markdown",
   "metadata": {},
   "source": [
    "Consider\n",
    "\\begin{align*}\n",
    "(v^{k-1})^*(x) &= \\max_y \\{x'y - v^{k-1}(y) \\}\\\\\n",
    "(u^{k})^*(y) &= \\max_y \\{x'y - u^k(x) \\}\n",
    "\\end{align*}"
   ]
  },
  {
   "cell_type": "markdown",
   "metadata": {},
   "source": [
    "One has\n",
    "\\begin{align*}\n",
    "u^k(x) &= \\mu(x) + (v^{k-1})^*(x) + \\sigma \\log \\int_{\\mathcal{Y}}\\exp\\left(\\frac{x'y - v^{k-1}(y) - (v^{k-1})^*(x)}{\\sigma}\\right) dy \\\\\n",
    "v^k(x) &= \\nu(y) + (u^{k})^*(y) + \\sigma \\log \\int_{\\mathcal{X}}\\exp\\left(\\frac{x'y - u{k}(y) - (u^{k})^*(y)}{\\sigma}\\right) dx\n",
    "\\end{align*}"
   ]
  },
  {
   "cell_type": "markdown",
   "metadata": {},
   "source": [
    "and now the arguments of the exponentials are always nonpositive, ensuring the exponentials don’t blow up."
   ]
  },
  {
   "cell_type": "code",
   "execution_count": 29,
   "metadata": {},
   "outputs": [
    {
     "name": "stdout",
     "output_type": "stream",
     "text": [
      "171.53 sec elapsed\n",
      "[1] \"IPFP2 converged in 485768 steps\"\n",
      "[1] \"Value of the problem (IPFP2) = NaN\"\n",
      "[1] \"Sum(pi*Phi) (IPFP2) = 0.869151724470475\"\n",
      "[1] -0.29052708 -0.37524875 -0.24172458 -0.08168658 -0.16788013 -0.28569533\n",
      "[7] -0.37572011  0.00000000\n",
      "[1] 1.0790391 1.0378405 1.1192756 1.1276767 1.2773118 0.9595294 1.0651250\n",
      "[8] 1.1961558\n"
     ]
    }
   ],
   "source": [
    "tic()\n",
    "    iter = 0\n",
    "    cont = TRUE\n",
    "    v = rep(0, nbY)\n",
    "    mu = -sigma * log(p)\n",
    "    nu = -sigma * log(q)\n",
    "    uprec = -Inf\n",
    "    while (cont) {\n",
    "        # print(iter)\n",
    "        iter = iter + 1\n",
    "        vstar = apply(t(t(Phi) - v), 1, max)\n",
    "        \n",
    "        u = mu + vstar + sigma * log(apply(exp((Phi - matrix(v, nbX, nbY, byrow = T) - \n",
    "            vstar)/sigma), 1, sum))\n",
    "        error = max(abs(u - uprec))\n",
    "        uprec = u\n",
    "        \n",
    "        ustar = apply(Phi - u, 2, max)\n",
    "        v = nu + ustar + sigma * log(apply(exp((Phi - u - matrix(ustar, nbX, nbY, \n",
    "            byrow = T))/sigma), 2, sum))\n",
    "        \n",
    "        if ((error < tol) | (iter >= maxiter)) {\n",
    "            cont = FALSE\n",
    "        }\n",
    "        \n",
    "    }\n",
    "    pi = exp((Phi - u - matrix(v, nbX, nbY, byrow = T))/sigma)\n",
    "    val = sum(pi * Phi) - sigma * sum(pi * log(pi))\n",
    "    toc()\n",
    "    \n",
    "    if (iter >= maxiter) {\n",
    "        print(\"Maximum number of iterations reached in IPFP2.\")\n",
    "    } else {\n",
    "        print(paste0(\"IPFP2 converged in \", iter, \" steps\"))\n",
    "        print(paste0(\"Value of the problem (IPFP2) = \", val))\n",
    "        print(paste0(\"Sum(pi*Phi) (IPFP2) = \", sum(pi * Phi)))\n",
    "        print(u[1:nrow] - u[nrow])\n",
    "        print(v[1:ncol] + u[nrow])\n",
    "    }\n",
    "    "
   ]
  },
  {
   "cell_type": "markdown",
   "metadata": {},
   "source": [
    "We can see that when $\\sigma = 0.01$, IPFP1 is faster. When $\\sigma = 0.001$, then the IPFP1 fails, whereas IPFP2 converges."
   ]
  },
  {
   "cell_type": "markdown",
   "metadata": {},
   "source": [
    "As a side note, this is also very useful when dealing with small numbers, in particular probabilities. Using the log-sum-exp trick shows up often when running certain Bayesian algorithms (f For example when doing certain Bayesian methods."
   ]
  }
 ],
 "metadata": {
  "kernelspec": {
   "display_name": "R",
   "language": "R",
   "name": "ir"
  },
  "language_info": {
   "codemirror_mode": "r",
   "file_extension": ".r",
   "mimetype": "text/x-r-source",
   "name": "R",
   "pygments_lexer": "r",
   "version": "3.5.2"
  }
 },
 "nbformat": 4,
 "nbformat_minor": 2
}
