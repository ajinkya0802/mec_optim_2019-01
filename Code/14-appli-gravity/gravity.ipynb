{
 "cells": [
  {
   "cell_type": "markdown",
   "metadata": {},
   "source": [
    "# Lecture 14"
   ]
  },
  {
   "cell_type": "markdown",
   "metadata": {},
   "source": [
    "Our data comes from An Advanced Guide to Trade Policy Analysis: The Structural Gravity Mode. We will estimate the gravity model using optimal transport as well as using Poisson regression."
   ]
  },
  {
   "cell_type": "code",
   "execution_count": 5,
   "metadata": {},
   "outputs": [],
   "source": [
    "library(tictoc)"
   ]
  },
  {
   "cell_type": "code",
   "execution_count": 1,
   "metadata": {},
   "outputs": [
    {
     "data": {
      "text/html": [
       "<table>\n",
       "<thead><tr><th scope=col>exporter</th><th scope=col>importer</th><th scope=col>pair_id</th><th scope=col>year</th><th scope=col>trade</th><th scope=col>DIST</th><th scope=col>CNTG</th><th scope=col>LANG</th><th scope=col>CLNY</th><th scope=col>ln_trade</th><th scope=col>...</th><th scope=col>IMPORTER_TIME_FE407</th><th scope=col>IMPORTER_TIME_FE408</th><th scope=col>IMPORTER_TIME_FE409</th><th scope=col>IMPORTER_TIME_FE410</th><th scope=col>IMPORTER_TIME_FE411</th><th scope=col>IMPORTER_TIME_FE412</th><th scope=col>IMPORTER_TIME_FE413</th><th scope=col>IMPORTER_TIME_FE414</th><th scope=col>X_est_fes</th><th scope=col>X_est_ppml</th></tr></thead>\n",
       "<tbody>\n",
       "\t<tr><td>LKA        </td><td>ARG        </td><td>115        </td><td>1986       </td><td>  0.0064160</td><td>15078.428  </td><td>0          </td><td>0          </td><td>0          </td><td>-5.048960  </td><td>...        </td><td>0          </td><td>0          </td><td>0          </td><td>0          </td><td>0          </td><td>0          </td><td>0          </td><td>0          </td><td>1          </td><td>1          </td></tr>\n",
       "\t<tr><td>GRC        </td><td>ARG        </td><td> 56        </td><td>1986       </td><td>  0.0988345</td><td>11772.039  </td><td>0          </td><td>0          </td><td>0          </td><td>-2.314308  </td><td>...        </td><td>0          </td><td>0          </td><td>0          </td><td>0          </td><td>0          </td><td>0          </td><td>0          </td><td>0          </td><td>1          </td><td>1          </td></tr>\n",
       "\t<tr><td>QAT        </td><td>ARG        </td><td>203        </td><td>1986       </td><td>  0.0000000</td><td>13482.186  </td><td>0          </td><td>0          </td><td>0          </td><td>       NA  </td><td>...        </td><td>0          </td><td>0          </td><td>0          </td><td>0          </td><td>0          </td><td>0          </td><td>0          </td><td>0          </td><td>0          </td><td>1          </td></tr>\n",
       "\t<tr><td>HKG        </td><td>ARG        </td><td> 60        </td><td>1986       </td><td>  5.7049370</td><td>18685.815  </td><td>0          </td><td>0          </td><td>0          </td><td> 1.741332  </td><td>...        </td><td>0          </td><td>0          </td><td>0          </td><td>0          </td><td>0          </td><td>0          </td><td>0          </td><td>0          </td><td>1          </td><td>1          </td></tr>\n",
       "\t<tr><td>FIN        </td><td>ARG        </td><td> 45        </td><td>1986       </td><td> 14.3477831</td><td>12969.024  </td><td>0          </td><td>0          </td><td>0          </td><td> 2.663595  </td><td>...        </td><td>0          </td><td>0          </td><td>0          </td><td>0          </td><td>0          </td><td>0          </td><td>0          </td><td>0          </td><td>1          </td><td>1          </td></tr>\n",
       "\t<tr><td>BRA        </td><td>ARG        </td><td>  8        </td><td>1986       </td><td>386.8603245</td><td> 2391.846  </td><td>1          </td><td>0          </td><td>0          </td><td> 5.958064  </td><td>...        </td><td>0          </td><td>0          </td><td>0          </td><td>0          </td><td>0          </td><td>0          </td><td>0          </td><td>0          </td><td>1          </td><td>1          </td></tr>\n",
       "</tbody>\n",
       "</table>\n"
      ],
      "text/latex": [
       "\\begin{tabular}{r|lllllllllllllllllllllllllllllllllllllllllllllllllllllllllllllllllllllllllllllllllllllllllllllllllllllllllllllllllllllllllllllllllllllllllllllllllllllllllllllllllllllllllllllllllllllllllllllllllllllllllllllllllllllllllllllllllllllllllllllllllllllllllllllllllllllllllllllllllllllllllllllllllllllllllllllllllllllllllllllllllllllllllllllllllllllllllllllllllllllllllllllllllllllllllllllllllllllllllllllllllllllllllllllllllllllllllllllllllllllllllllllllllllllllllllllllllllllllllllllllllllllllllllllllllllllllllllllllllllllllllllllllllllllllllllllllllllllllllllllllllllllllllllllllllllllllllllllllllllllllllllllllllllllllllllllllllllllllllllllllllllllllllllllllllllllllllllllllllllllllllllllllllllllllllllllllllllllllllllllllllllllllllllllllllllllllllllllllllllllllllllllllllllllllllllllllllllllllllllllllllllllllllllllllllllllllllllllllllllllllllllllllllllllll}\n",
       " exporter & importer & pair\\_id & year & trade & DIST & CNTG & LANG & CLNY & ln\\_trade & ... & IMPORTER\\_TIME\\_FE407 & IMPORTER\\_TIME\\_FE408 & IMPORTER\\_TIME\\_FE409 & IMPORTER\\_TIME\\_FE410 & IMPORTER\\_TIME\\_FE411 & IMPORTER\\_TIME\\_FE412 & IMPORTER\\_TIME\\_FE413 & IMPORTER\\_TIME\\_FE414 & X\\_est\\_fes & X\\_est\\_ppml\\\\\n",
       "\\hline\n",
       "\t LKA         & ARG         & 115         & 1986        &   0.0064160 & 15078.428   & 0           & 0           & 0           & -5.048960   & ...         & 0           & 0           & 0           & 0           & 0           & 0           & 0           & 0           & 1           & 1          \\\\\n",
       "\t GRC         & ARG         &  56         & 1986        &   0.0988345 & 11772.039   & 0           & 0           & 0           & -2.314308   & ...         & 0           & 0           & 0           & 0           & 0           & 0           & 0           & 0           & 1           & 1          \\\\\n",
       "\t QAT         & ARG         & 203         & 1986        &   0.0000000 & 13482.186   & 0           & 0           & 0           &        NA   & ...         & 0           & 0           & 0           & 0           & 0           & 0           & 0           & 0           & 0           & 1          \\\\\n",
       "\t HKG         & ARG         &  60         & 1986        &   5.7049370 & 18685.815   & 0           & 0           & 0           &  1.741332   & ...         & 0           & 0           & 0           & 0           & 0           & 0           & 0           & 0           & 1           & 1          \\\\\n",
       "\t FIN         & ARG         &  45         & 1986        &  14.3477831 & 12969.024   & 0           & 0           & 0           &  2.663595   & ...         & 0           & 0           & 0           & 0           & 0           & 0           & 0           & 0           & 1           & 1          \\\\\n",
       "\t BRA         & ARG         &   8         & 1986        & 386.8603245 &  2391.846   & 1           & 0           & 0           &  5.958064   & ...         & 0           & 0           & 0           & 0           & 0           & 0           & 0           & 0           & 1           & 1          \\\\\n",
       "\\end{tabular}\n"
      ],
      "text/markdown": [
       "\n",
       "| exporter | importer | pair_id | year | trade | DIST | CNTG | LANG | CLNY | ln_trade | ... | IMPORTER_TIME_FE407 | IMPORTER_TIME_FE408 | IMPORTER_TIME_FE409 | IMPORTER_TIME_FE410 | IMPORTER_TIME_FE411 | IMPORTER_TIME_FE412 | IMPORTER_TIME_FE413 | IMPORTER_TIME_FE414 | X_est_fes | X_est_ppml |\n",
       "|---|---|---|---|---|---|---|---|---|---|---|---|---|---|---|---|---|---|---|---|---|\n",
       "| LKA         | ARG         | 115         | 1986        |   0.0064160 | 15078.428   | 0           | 0           | 0           | -5.048960   | ...         | 0           | 0           | 0           | 0           | 0           | 0           | 0           | 0           | 1           | 1           |\n",
       "| GRC         | ARG         |  56         | 1986        |   0.0988345 | 11772.039   | 0           | 0           | 0           | -2.314308   | ...         | 0           | 0           | 0           | 0           | 0           | 0           | 0           | 0           | 1           | 1           |\n",
       "| QAT         | ARG         | 203         | 1986        |   0.0000000 | 13482.186   | 0           | 0           | 0           |        NA   | ...         | 0           | 0           | 0           | 0           | 0           | 0           | 0           | 0           | 0           | 1           |\n",
       "| HKG         | ARG         |  60         | 1986        |   5.7049370 | 18685.815   | 0           | 0           | 0           |  1.741332   | ...         | 0           | 0           | 0           | 0           | 0           | 0           | 0           | 0           | 1           | 1           |\n",
       "| FIN         | ARG         |  45         | 1986        |  14.3477831 | 12969.024   | 0           | 0           | 0           |  2.663595   | ...         | 0           | 0           | 0           | 0           | 0           | 0           | 0           | 0           | 1           | 1           |\n",
       "| BRA         | ARG         |   8         | 1986        | 386.8603245 |  2391.846   | 1           | 0           | 0           |  5.958064   | ...         | 0           | 0           | 0           | 0           | 0           | 0           | 0           | 0           | 1           | 1           |\n",
       "\n"
      ],
      "text/plain": [
       "  exporter importer pair_id year trade       DIST      CNTG LANG CLNY ln_trade \n",
       "1 LKA      ARG      115     1986   0.0064160 15078.428 0    0    0    -5.048960\n",
       "2 GRC      ARG       56     1986   0.0988345 11772.039 0    0    0    -2.314308\n",
       "3 QAT      ARG      203     1986   0.0000000 13482.186 0    0    0           NA\n",
       "4 HKG      ARG       60     1986   5.7049370 18685.815 0    0    0     1.741332\n",
       "5 FIN      ARG       45     1986  14.3477831 12969.024 0    0    0     2.663595\n",
       "6 BRA      ARG        8     1986 386.8603245  2391.846 1    0    0     5.958064\n",
       "  ... IMPORTER_TIME_FE407 IMPORTER_TIME_FE408 IMPORTER_TIME_FE409\n",
       "1 ... 0                   0                   0                  \n",
       "2 ... 0                   0                   0                  \n",
       "3 ... 0                   0                   0                  \n",
       "4 ... 0                   0                   0                  \n",
       "5 ... 0                   0                   0                  \n",
       "6 ... 0                   0                   0                  \n",
       "  IMPORTER_TIME_FE410 IMPORTER_TIME_FE411 IMPORTER_TIME_FE412\n",
       "1 0                   0                   0                  \n",
       "2 0                   0                   0                  \n",
       "3 0                   0                   0                  \n",
       "4 0                   0                   0                  \n",
       "5 0                   0                   0                  \n",
       "6 0                   0                   0                  \n",
       "  IMPORTER_TIME_FE413 IMPORTER_TIME_FE414 X_est_fes X_est_ppml\n",
       "1 0                   0                   1         1         \n",
       "2 0                   0                   1         1         \n",
       "3 0                   0                   0         1         \n",
       "4 0                   0                   1         1         \n",
       "5 0                   0                   1         1         \n",
       "6 0                   0                   1         1         "
      ]
     },
     "metadata": {},
     "output_type": "display_data"
    }
   ],
   "source": [
    "thepath = getwd()\n",
    "tradedata = read.csv(\"1_TraditionalGravity_from_WTO_book.csv\")   \n",
    "head(tradedata)"
   ]
  },
  {
   "cell_type": "markdown",
   "metadata": {},
   "source": [
    "Let's prepare the data so that we can use it. We want to construct \n",
    "* $D_{ni,t}^k$ which is the $k$th pairwise distance between importer $n$ and exporter $i$ at time $t$\n",
    "\n",
    "* $X_{n,t}$ total value of expenditure of importer $n$ at time $t$\n",
    " \n",
    "* $Y_{i,t}$ total value of production of exporter $i$ at time $t$"
   ]
  },
  {
   "cell_type": "code",
   "execution_count": 2,
   "metadata": {},
   "outputs": [],
   "source": [
    "# Unique list of importers\n",
    "countrylist = sort(unique(tradedata$importer))\n",
    "# Unique list of exporters\n",
    "exportercountrylist = sort(unique(tradedata$exporter))\n",
    "if (!identical(countrylist, exportercountrylist)) {\n",
    "    stop(\"exporter and importer country lists do not coincide\")\n",
    "}\n",
    "\n",
    "# regressorsIndices = 4:13\n",
    "regressorsIndices = c(\"ln_DIST\", \"CNTG\", \"LANG\", \"CLNY\")\n",
    "yearslist = c(1986, 1990, 1994, 1998, 2002, 2006)\n",
    "\n",
    "regressors_raw = tradedata[regressorsIndices]\n",
    "regressorsNames = names(regressors_raw)\n",
    "flow_raw = tradedata$trade\n",
    "\n",
    "nbt = length(yearslist)  # number of years\n",
    "nbk = dim(regressors_raw)[2]  # number of regressors\n",
    "nbi = length(countrylist)  # number of countries\n",
    "yearsIndices = 1:nbt\n",
    "\n",
    "Dnikt = array(0, dim = c(nbi, nbi, nbk, nbt))  # basis functions\n",
    "Xhatnit = array(0, dim = c(nbi, nbi, nbt))  # trade flows from n to i\n",
    "\n",
    "missingObs = array(0, dim = c(0, 2, nbt))\n",
    "\n",
    "for (year in 1:nbt) {\n",
    "    theYear = yearslist[year]\n",
    "    # print(theYear)\n",
    "    for (dest in 1:nbi) {\n",
    "        theDest = as.character(countrylist[dest])\n",
    "        # print(theDest)\n",
    "        for (orig in 1:nbi) {\n",
    "            if (orig != dest) {\n",
    "                theOrig = as.character(countrylist[orig])\n",
    "                extract = (tradedata$exporter == theOrig) & (tradedata$importer == \n",
    "                  theDest) & (tradedata$year == theYear)\n",
    "                line = regressors_raw[extract, ]\n",
    "                \n",
    "                if (dim(line)[1] == 0) {\n",
    "                  missingObs = rbind(missingObs, c(theOrig, theDest))\n",
    "                }\n",
    "                \n",
    "                if (dim(line)[1] > 1) {\n",
    "                  stop(\"Several lines with year, exporter and importer.\")\n",
    "                }\n",
    "                \n",
    "                if (dim(line)[1] == 1) {\n",
    "                  Dnikt[orig, dest, , year] = as.numeric(line)\n",
    "                  Xhatnit[orig, dest, year] = flow_raw[extract]\n",
    "                }                \n",
    "            }\n",
    "        }\n",
    "    }\n",
    "}\n",
    "if (length(missingObs) > 0) {\n",
    "    stop(\"Missing observations\")\n",
    "}\n",
    "Xnt = apply(X = Xhatnit, MARGIN = c(1, 3), FUN = sum)\n",
    "Yit = apply(X = Xhatnit, MARGIN = c(2, 3), FUN = sum)"
   ]
  },
  {
   "cell_type": "markdown",
   "metadata": {},
   "source": [
    "We will solve this model by fixing a $\\beta$ and solving the matching problem using IPFP. Then in an outer loop we will solve for the $\\beta$ which minimizes the distance between model and empirical moments."
   ]
  },
  {
   "cell_type": "code",
   "execution_count": 3,
   "metadata": {},
   "outputs": [
    {
     "data": {
      "text/plain": [
       "   user  system elapsed \n",
       "  91.16    0.05   92.61 "
      ]
     },
     "metadata": {},
     "output_type": "display_data"
    },
    {
     "name": "stdout",
     "output_type": "stream",
     "text": [
      "[1] -0.8409237  0.4374486  0.2474767 -0.2224904\n"
     ]
    }
   ],
   "source": [
    "sigma = 1  # sigma for IPFP\n",
    "maxiterIpfp = 1000  # max numbers of iterations\n",
    "tolIpfp = 1e-12  # tolerance for IPFP\n",
    "tolDescent = 1e-12  # tolerance for gradient descent\n",
    "\n",
    "totmass_t = rep(sum(Xnt)/nbt, nbt)  # total mass\n",
    "p_nt = t(t(Xnt)/totmass_t)  # proportion of importer expenditure\n",
    "q_nt = t(t(Yit)/totmass_t)  # proportion of exporter productions\n",
    "IX = rep(1, nbi)\n",
    "tIY = matrix(rep(1, nbi), nrow = 1)\n",
    "\n",
    "f_nit = array(0, dim = c(nbi, nbi, nbt))\n",
    "g_nit = array(0, dim = c(nbi, nbi, nbt))\n",
    "pihat_nit = array(0, dim = c(nbi, nbi, nbt))\n",
    "\n",
    "sdD_k = rep(1, nbk)\n",
    "meanD_k = rep(0, nbk)\n",
    "\n",
    "for (t in 1:nbt) {\n",
    "    f_nit[, , t] = p_nt[, t] %*% tIY\n",
    "    g_nit[, , t] = IX %*% t(q_nt[, t])\n",
    "    pihat_nit[, , t] = Xhatnit[, , t]/totmass_t[t]\n",
    "}\n",
    "\n",
    "for (k in 1:nbk) {\n",
    "    meanD_k[k] = mean(Dnikt[, , k, ])\n",
    "    sdD_k[k] = sd(Dnikt[, , k, ])\n",
    "    Dnikt[, , k, ] = (Dnikt[, , k, ] - meanD_k[k])/sdD_k[k]\n",
    "}\n",
    "\n",
    "\n",
    "v_it = matrix(rep(0, nbi * nbt), nbi, nbt)\n",
    "beta_k = rep(0, nbk)\n",
    "\n",
    "t_s = 0.03  # step size for the prox grad algorithm (or grad descent when lambda=0)\n",
    "iterCount = 0\n",
    "\n",
    "tic()\n",
    "\n",
    "while (1) {\n",
    "    thegrad = rep(0, nbk)\n",
    "    pi_nit = array(0, dim = c(nbi, nbi, nbt))\n",
    "    \n",
    "    for (t in 1:nbt) {\n",
    "        D_ij_k = matrix(Dnikt[, , , t], ncol = nbk)\n",
    "        Phi = matrix(D_ij_k %*% matrix(beta_k, ncol = 1), nrow = nbi)\n",
    "        contIpfp = TRUE\n",
    "        iterIpfp = 0\n",
    "        v = v_it[, t]\n",
    "        f = f_nit[, , t]\n",
    "        g = g_nit[, , t]\n",
    "        K = exp(Phi/sigma)\n",
    "        diag(K) = 0\n",
    "        gK = g * K\n",
    "        fK = f * K\n",
    "        \n",
    "        \n",
    "        while (contIpfp) {\n",
    "            iterIpfp = iterIpfp + 1\n",
    "            u = sigma * log(apply(gK * exp((-IX %*% t(v))/sigma), 1, sum))\n",
    "            vnext = sigma * log(apply(fK * exp((-u %*% tIY)/sigma), 2, sum))\n",
    "            error = max(abs(apply(gK * exp((-IX %*% t(vnext) - u %*% tIY)/sigma), \n",
    "                1, sum) - 1))\n",
    "            if ((error < tolIpfp) | (iterIpfp >= maxiterIpfp)) {\n",
    "                contIpfp = FALSE\n",
    "            }\n",
    "            v = vnext\n",
    "        }\n",
    "        v_it[, t] = v\n",
    "        pi_nit[, , t] = f * gK * exp((-IX %*% t(v) - u %*% tIY)/sigma)\n",
    "        if (iterIpfp >= maxiterIpfp) {\n",
    "            stop(\"maximum number of iterations reached\")\n",
    "        }\n",
    "        \n",
    "        thegrad = thegrad + c(c(pi_nit[, , t] - pihat_nit[, , t]) %*% D_ij_k)\n",
    "        \n",
    "    }\n",
    "    # take one gradient step\n",
    "    beta_k = beta_k - t_s * thegrad\n",
    "    \n",
    "    theval = sum(thegrad * beta_k) - sigma * sum(pi_nit[pi_nit > 0] * log(pi_nit[pi_nit > \n",
    "        0]))\n",
    "    \n",
    "    iterCount = iterCount + 1\n",
    "    \n",
    "    if (iterCount > 1 && abs(theval - theval_old) < tolDescent) {\n",
    "        break\n",
    "    }\n",
    "    theval_old = theval\n",
    "}\n",
    "\n",
    "beta_k = beta_k/sdD_k\n",
    "\n",
    "toc()\n",
    "print(beta_k)"
   ]
  },
  {
   "cell_type": "markdown",
   "metadata": {},
   "source": [
    "## Comparison"
   ]
  },
  {
   "cell_type": "markdown",
   "metadata": {},
   "source": [
    "We can compare the results and speed of our computation to that of Poisson regression packages. As a warning, these give the same results, but at the cost of a much longer run time, so use at your own risk."
   ]
  },
  {
   "cell_type": "markdown",
   "metadata": {},
   "source": [
    "We can solve instead using the Poisson regression from the glm package."
   ]
  },
  {
   "cell_type": "code",
   "execution_count": 4,
   "metadata": {},
   "outputs": [],
   "source": [
    "tic()\n",
    "\n",
    "glm_pois = glm(as.formula(\n",
    "        paste(\"trade ~ \", \n",
    "               paste(grep(\"PORTER_TIME_FE\", names(tradedata), value=TRUE), collapse=\" + \"), \n",
    "               \" + ln_DIST + CNTG + LANG + CLNY\")),\n",
    "        family = quasipoisson,\n",
    "        data=subset(tradedata, exporter!=importer) )\n",
    "\n",
    "toc()\n",
    "\n",
    "glm_pois$coefficients[regressorsIndices]"
   ]
  },
  {
   "cell_type": "markdown",
   "metadata": {},
   "source": [
    "Which gives the same results but is much slower."
   ]
  },
  {
   "cell_type": "markdown",
   "metadata": {},
   "source": [
    "We can also use the `pplm` function from the `gravity` package."
   ]
  },
  {
   "cell_type": "code",
   "execution_count": 15,
   "metadata": {},
   "outputs": [
    {
     "name": "stdout",
     "output_type": "stream",
     "text": [
      "383.08 sec elapsed\n"
     ]
    }
   ],
   "source": [
    "#install.packages(\"gravity\")\n",
    "library(gravity)\n",
    "tic()\n",
    "\n",
    "grav_pois = ppml('trade', 'DIST', c(grep(\"PORTER_TIME_FE\", names(tradedata), value=TRUE), 'CNTG', 'LANG', 'CLNY'),\n",
    "    vce_robust = FALSE, data = subset(tradedata, exporter!=importer))\n",
    "\n",
    "toc()\n",
    "\n",
    "grav_pois$coefficients[c(\"dist_log\", \"CNTG\", \"LANG\", \"CLNY\"), 1]"
   ]
  },
  {
   "cell_type": "markdown",
   "metadata": {},
   "source": [
    "Again which gives the same results but it is much slower!"
   ]
  }
 ],
 "metadata": {
  "kernelspec": {
   "display_name": "R",
   "language": "R",
   "name": "ir"
  },
  "language_info": {
   "codemirror_mode": "r",
   "file_extension": ".r",
   "mimetype": "text/x-r-source",
   "name": "R",
   "pygments_lexer": "r",
   "version": "3.5.2"
  }
 },
 "nbformat": 4,
 "nbformat_minor": 2
}
