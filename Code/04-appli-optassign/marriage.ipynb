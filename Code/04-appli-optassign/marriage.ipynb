{
 "cells": [
  {
   "cell_type": "markdown",
   "metadata": {},
   "source": [
    "# Lecture 4"
   ]
  },
  {
   "cell_type": "markdown",
   "metadata": {},
   "source": [
    "The application consists of data on a population of heterosexual men and women, which includes education, height, BMI, health, the \"big 5\" personality traits, and a measure of risk aversion. These data are stored in the files `Xvals.csv` (men) and `Yvals.csv` (women) on $1,158$ men and women. (The data comes from married households, which is why there is the same number of men and women)."
   ]
  },
  {
   "cell_type": "code",
   "execution_count": 1,
   "metadata": {},
   "outputs": [
    {
     "name": "stderr",
     "output_type": "stream",
     "text": [
      "Loading required package: Matrix\n",
      "Loading required package: gurobi\n",
      "Loading required package: slam\n"
     ]
    }
   ],
   "source": [
    "require(\"Matrix\")\n",
    "require(\"gurobi\")\n",
    "thePath = getwd()\n",
    "nbcar = 10  # number of characteristics\n",
    "\n",
    "data_X = as.matrix(read.csv(paste0(thePath, \"/Xvals.csv\"), sep = \",\", header = TRUE))  # loads the data\n",
    "Xvals = matrix(as.numeric(data_X[, 1:nbcar]), ncol = nbcar)\n",
    "\n",
    "data_Y = as.matrix(read.csv(paste0(thePath, \"/Yvals.csv\"), sep = \",\", header = TRUE))  # loads the data\n",
    "Yvals = matrix(as.numeric(data_Y[, 1:nbcar]), ncol = nbcar)"
   ]
  },
  {
   "cell_type": "code",
   "execution_count": 2,
   "metadata": {},
   "outputs": [
    {
     "data": {
      "text/html": [
       "<table>\n",
       "<thead><tr><th scope=col>educm</th><th scope=col>heightm</th><th scope=col>BMIm</th><th scope=col>healthm</th><th scope=col>consm</th><th scope=col>extram</th><th scope=col>agreem</th><th scope=col>emom</th><th scope=col>autom</th><th scope=col>riskym</th></tr></thead>\n",
       "<tbody>\n",
       "\t<tr><td>2        </td><td>186      </td><td>28.90508 </td><td>3        </td><td>-0.752877</td><td>-0.360787</td><td>-0.711276</td><td>-0.291031</td><td> 0.840217</td><td> 0.479437</td></tr>\n",
       "\t<tr><td>2        </td><td>176      </td><td>27.44060 </td><td>3        </td><td> 0.345542</td><td>-0.805524</td><td>-0.251796</td><td>-0.305475</td><td>-0.064454</td><td> 0.030303</td></tr>\n",
       "\t<tr><td>3        </td><td>187      </td><td>23.16337 </td><td>3        </td><td>-0.759678</td><td> 0.898007</td><td>-0.029462</td><td>-0.672859</td><td>-0.961691</td><td>-0.556598</td></tr>\n",
       "\t<tr><td>1        </td><td>184      </td><td>29.24149 </td><td>2        </td><td>-0.455688</td><td>-1.053375</td><td>-0.041612</td><td> 0.436133</td><td> 0.121873</td><td> 0.992084</td></tr>\n",
       "\t<tr><td>1        </td><td>174      </td><td>23.78121 </td><td>4        </td><td>-1.440239</td><td> 1.163730</td><td> 0.293750</td><td>-0.538922</td><td> 0.782285</td><td>-1.401034</td></tr>\n",
       "\t<tr><td>1        </td><td>186      </td><td>21.96786 </td><td>3        </td><td>-1.008298</td><td>-0.484221</td><td> 1.155301</td><td> 0.267899</td><td> 0.927354</td><td> 0.011056</td></tr>\n",
       "</tbody>\n",
       "</table>\n"
      ],
      "text/latex": [
       "\\begin{tabular}{llllllllll}\n",
       " educm & heightm & BMIm & healthm & consm & extram & agreem & emom & autom & riskym\\\\\n",
       "\\hline\n",
       "\t 2         & 186       & 28.90508  & 3         & -0.752877 & -0.360787 & -0.711276 & -0.291031 &  0.840217 &  0.479437\\\\\n",
       "\t 2         & 176       & 27.44060  & 3         &  0.345542 & -0.805524 & -0.251796 & -0.305475 & -0.064454 &  0.030303\\\\\n",
       "\t 3         & 187       & 23.16337  & 3         & -0.759678 &  0.898007 & -0.029462 & -0.672859 & -0.961691 & -0.556598\\\\\n",
       "\t 1         & 184       & 29.24149  & 2         & -0.455688 & -1.053375 & -0.041612 &  0.436133 &  0.121873 &  0.992084\\\\\n",
       "\t 1         & 174       & 23.78121  & 4         & -1.440239 &  1.163730 &  0.293750 & -0.538922 &  0.782285 & -1.401034\\\\\n",
       "\t 1         & 186       & 21.96786  & 3         & -1.008298 & -0.484221 &  1.155301 &  0.267899 &  0.927354 &  0.011056\\\\\n",
       "\\end{tabular}\n"
      ],
      "text/markdown": [
       "\n",
       "| educm | heightm | BMIm | healthm | consm | extram | agreem | emom | autom | riskym |\n",
       "|---|---|---|---|---|---|---|---|---|---|\n",
       "| 2         | 186       | 28.90508  | 3         | -0.752877 | -0.360787 | -0.711276 | -0.291031 |  0.840217 |  0.479437 |\n",
       "| 2         | 176       | 27.44060  | 3         |  0.345542 | -0.805524 | -0.251796 | -0.305475 | -0.064454 |  0.030303 |\n",
       "| 3         | 187       | 23.16337  | 3         | -0.759678 |  0.898007 | -0.029462 | -0.672859 | -0.961691 | -0.556598 |\n",
       "| 1         | 184       | 29.24149  | 2         | -0.455688 | -1.053375 | -0.041612 |  0.436133 |  0.121873 |  0.992084 |\n",
       "| 1         | 174       | 23.78121  | 4         | -1.440239 |  1.163730 |  0.293750 | -0.538922 |  0.782285 | -1.401034 |\n",
       "| 1         | 186       | 21.96786  | 3         | -1.008298 | -0.484221 |  1.155301 |  0.267899 |  0.927354 |  0.011056 |\n",
       "\n"
      ],
      "text/plain": [
       "     educm heightm BMIm     healthm consm     extram    agreem    emom     \n",
       "[1,] 2     186     28.90508 3       -0.752877 -0.360787 -0.711276 -0.291031\n",
       "[2,] 2     176     27.44060 3        0.345542 -0.805524 -0.251796 -0.305475\n",
       "[3,] 3     187     23.16337 3       -0.759678  0.898007 -0.029462 -0.672859\n",
       "[4,] 1     184     29.24149 2       -0.455688 -1.053375 -0.041612  0.436133\n",
       "[5,] 1     174     23.78121 4       -1.440239  1.163730  0.293750 -0.538922\n",
       "[6,] 1     186     21.96786 3       -1.008298 -0.484221  1.155301  0.267899\n",
       "     autom     riskym   \n",
       "[1,]  0.840217  0.479437\n",
       "[2,] -0.064454  0.030303\n",
       "[3,] -0.961691 -0.556598\n",
       "[4,]  0.121873  0.992084\n",
       "[5,]  0.782285 -1.401034\n",
       "[6,]  0.927354  0.011056"
      ]
     },
     "metadata": {},
     "output_type": "display_data"
    }
   ],
   "source": [
    "head(data_X)"
   ]
  },
  {
   "cell_type": "code",
   "execution_count": 3,
   "metadata": {},
   "outputs": [
    {
     "data": {
      "text/html": [
       "<table>\n",
       "<thead><tr><th scope=col>educv</th><th scope=col>heightv</th><th scope=col>BMIv</th><th scope=col>healthv</th><th scope=col>consv</th><th scope=col>extrav</th><th scope=col>agreev</th><th scope=col>emov</th><th scope=col>autov</th><th scope=col>riskyv</th></tr></thead>\n",
       "<tbody>\n",
       "\t<tr><td>2        </td><td>159      </td><td>22.94213 </td><td>4        </td><td>-0.352262</td><td> 0.065096</td><td>-0.713136</td><td>-0.529817</td><td>-0.066740</td><td> 0.271632</td></tr>\n",
       "\t<tr><td>2        </td><td>165      </td><td>22.03857 </td><td>3        </td><td>-0.741707</td><td>-0.484221</td><td> 0.219906</td><td> 0.706937</td><td> 0.685428</td><td> 0.353834</td></tr>\n",
       "\t<tr><td>3        </td><td>170      </td><td>20.76125 </td><td>3        </td><td> 0.327571</td><td>-0.180299</td><td> 1.052070</td><td> 0.999001</td><td> 0.177472</td><td>-0.201117</td></tr>\n",
       "\t<tr><td>2        </td><td>160      </td><td>22.65625 </td><td>4        </td><td>-0.187640</td><td>-1.299261</td><td> 1.223071</td><td> 0.154011</td><td> 2.284336</td><td>-0.172070</td></tr>\n",
       "\t<tr><td>2        </td><td>165      </td><td>22.77319 </td><td>3        </td><td> 0.078951</td><td> 0.613921</td><td> 0.122749</td><td> 0.073875</td><td>-0.253068</td><td> 0.042352</td></tr>\n",
       "\t<tr><td>1        </td><td>168      </td><td>19.13265 </td><td>3        </td><td>-1.429069</td><td> 0.472616</td><td> 1.240802</td><td> 0.695631</td><td> 1.163253</td><td>-1.445496</td></tr>\n",
       "</tbody>\n",
       "</table>\n"
      ],
      "text/latex": [
       "\\begin{tabular}{llllllllll}\n",
       " educv & heightv & BMIv & healthv & consv & extrav & agreev & emov & autov & riskyv\\\\\n",
       "\\hline\n",
       "\t 2         & 159       & 22.94213  & 4         & -0.352262 &  0.065096 & -0.713136 & -0.529817 & -0.066740 &  0.271632\\\\\n",
       "\t 2         & 165       & 22.03857  & 3         & -0.741707 & -0.484221 &  0.219906 &  0.706937 &  0.685428 &  0.353834\\\\\n",
       "\t 3         & 170       & 20.76125  & 3         &  0.327571 & -0.180299 &  1.052070 &  0.999001 &  0.177472 & -0.201117\\\\\n",
       "\t 2         & 160       & 22.65625  & 4         & -0.187640 & -1.299261 &  1.223071 &  0.154011 &  2.284336 & -0.172070\\\\\n",
       "\t 2         & 165       & 22.77319  & 3         &  0.078951 &  0.613921 &  0.122749 &  0.073875 & -0.253068 &  0.042352\\\\\n",
       "\t 1         & 168       & 19.13265  & 3         & -1.429069 &  0.472616 &  1.240802 &  0.695631 &  1.163253 & -1.445496\\\\\n",
       "\\end{tabular}\n"
      ],
      "text/markdown": [
       "\n",
       "| educv | heightv | BMIv | healthv | consv | extrav | agreev | emov | autov | riskyv |\n",
       "|---|---|---|---|---|---|---|---|---|---|\n",
       "| 2         | 159       | 22.94213  | 4         | -0.352262 |  0.065096 | -0.713136 | -0.529817 | -0.066740 |  0.271632 |\n",
       "| 2         | 165       | 22.03857  | 3         | -0.741707 | -0.484221 |  0.219906 |  0.706937 |  0.685428 |  0.353834 |\n",
       "| 3         | 170       | 20.76125  | 3         |  0.327571 | -0.180299 |  1.052070 |  0.999001 |  0.177472 | -0.201117 |\n",
       "| 2         | 160       | 22.65625  | 4         | -0.187640 | -1.299261 |  1.223071 |  0.154011 |  2.284336 | -0.172070 |\n",
       "| 2         | 165       | 22.77319  | 3         |  0.078951 |  0.613921 |  0.122749 |  0.073875 | -0.253068 |  0.042352 |\n",
       "| 1         | 168       | 19.13265  | 3         | -1.429069 |  0.472616 |  1.240802 |  0.695631 |  1.163253 | -1.445496 |\n",
       "\n"
      ],
      "text/plain": [
       "     educv heightv BMIv     healthv consv     extrav    agreev    emov     \n",
       "[1,] 2     159     22.94213 4       -0.352262  0.065096 -0.713136 -0.529817\n",
       "[2,] 2     165     22.03857 3       -0.741707 -0.484221  0.219906  0.706937\n",
       "[3,] 3     170     20.76125 3        0.327571 -0.180299  1.052070  0.999001\n",
       "[4,] 2     160     22.65625 4       -0.187640 -1.299261  1.223071  0.154011\n",
       "[5,] 2     165     22.77319 3        0.078951  0.613921  0.122749  0.073875\n",
       "[6,] 1     168     19.13265 3       -1.429069  0.472616  1.240802  0.695631\n",
       "     autov     riskyv   \n",
       "[1,] -0.066740  0.271632\n",
       "[2,]  0.685428  0.353834\n",
       "[3,]  0.177472 -0.201117\n",
       "[4,]  2.284336 -0.172070\n",
       "[5,] -0.253068  0.042352\n",
       "[6,]  1.163253 -1.445496"
      ]
     },
     "metadata": {},
     "output_type": "display_data"
    }
   ],
   "source": [
    "head(data_Y)"
   ]
  },
  {
   "cell_type": "markdown",
   "metadata": {},
   "source": [
    "We postulate that the form of the surplus function is\n",
    "\\begin{align*}\n",
    "\\Phi_{ij}=x_{i}^{\\intercal} Ay_{j}\n",
    "\\end{align*}\n",
    "where $x_{i}$ and $y_{j}$ are the 10-dimensional characteristics of man $i$ and woman $j$, and the form of $A$, a 10x10 matrix, is given (it is stored in the file `affinitymatrix.csv`). Again, we'll see later how to solve the econometrics problem of estimating $A$."
   ]
  },
  {
   "cell_type": "code",
   "execution_count": 4,
   "metadata": {},
   "outputs": [],
   "source": [
    "data_aff = as.matrix(read.csv(paste0(thePath, \"/affinitymatrix.csv\"), sep = \",\", \n",
    "    header = TRUE))  # loads the data\n",
    "A = matrix(as.numeric(data_aff[1:nbcar, 2:(nbcar + 1)]), nbcar, nbcar)\n",
    "\n",
    "sdX = apply(Xvals, 2, sd)\n",
    "sdY = apply(Yvals, 2, sd)\n",
    "mX = apply(Xvals, 2, mean)\n",
    "mY = apply(Yvals, 2, mean)\n",
    "Xvals = t((t(Xvals) - mX)/sdX)\n",
    "Yvals = t((t(Yvals) - mY)/sdY)\n",
    "nobs = dim(Xvals)[1]\n",
    "\n",
    "Phi = Xvals %*% A %*% t(Yvals)"
   ]
  },
  {
   "cell_type": "code",
   "execution_count": 5,
   "metadata": {},
   "outputs": [
    {
     "data": {
      "text/html": [
       "<table>\n",
       "<thead><tr><th scope=col>X</th><th scope=col>educw</th><th scope=col>heightw</th><th scope=col>BMIw</th><th scope=col>healthw</th><th scope=col>consw</th><th scope=col>extraw</th><th scope=col>agreew</th><th scope=col>emow</th><th scope=col>autow</th><th scope=col>riskyw</th></tr></thead>\n",
       "<tbody>\n",
       "\t<tr><td>educm  </td><td> 0.56  </td><td> 0.02  </td><td>-0.08  </td><td> 0.02  </td><td>-0.04  </td><td>-0.01  </td><td>-0.03  </td><td>-0.04  </td><td> 0.05  </td><td>-0.02  </td></tr>\n",
       "\t<tr><td>heightm</td><td> 0.01  </td><td> 0.18  </td><td> 0.04  </td><td>-0.01  </td><td>-0.04  </td><td> 0.05  </td><td> 0.02  </td><td> 0.02  </td><td> 0.02  </td><td> 0.02  </td></tr>\n",
       "\t<tr><td>BMIm   </td><td>-0.05  </td><td> 0.05  </td><td> 0.21  </td><td> 0.01  </td><td> 0.06  </td><td> 0.00  </td><td>-0.04  </td><td> 0.04  </td><td>-0.01  </td><td> 0.01  </td></tr>\n",
       "\t<tr><td>healthm</td><td>-0.07  </td><td> 0.00  </td><td>-0.06  </td><td> 0.14  </td><td>-0.04  </td><td> 0.05  </td><td>-0.04  </td><td> 0.04  </td><td> 0.02  </td><td> 0.00  </td></tr>\n",
       "\t<tr><td>consm  </td><td>-0.06  </td><td>-0.03  </td><td> 0.07  </td><td> 0.00  </td><td> 0.14  </td><td> 0.07  </td><td> 0.04  </td><td> 0.06  </td><td>-0.02  </td><td>-0.01  </td></tr>\n",
       "\t<tr><td>extram </td><td> 0.01  </td><td>-0.02  </td><td> 0.05  </td><td> 0.02  </td><td>-0.06  </td><td> 0.02  </td><td>-0.02  </td><td>-0.01  </td><td>-0.03  </td><td>-0.05  </td></tr>\n",
       "</tbody>\n",
       "</table>\n"
      ],
      "text/latex": [
       "\\begin{tabular}{lllllllllll}\n",
       " X & educw & heightw & BMIw & healthw & consw & extraw & agreew & emow & autow & riskyw\\\\\n",
       "\\hline\n",
       "\t educm   &  0.56   &  0.02   & -0.08   &  0.02   & -0.04   & -0.01   & -0.03   & -0.04   &  0.05   & -0.02  \\\\\n",
       "\t heightm &  0.01   &  0.18   &  0.04   & -0.01   & -0.04   &  0.05   &  0.02   &  0.02   &  0.02   &  0.02  \\\\\n",
       "\t BMIm    & -0.05   &  0.05   &  0.21   &  0.01   &  0.06   &  0.00   & -0.04   &  0.04   & -0.01   &  0.01  \\\\\n",
       "\t healthm & -0.07   &  0.00   & -0.06   &  0.14   & -0.04   &  0.05   & -0.04   &  0.04   &  0.02   &  0.00  \\\\\n",
       "\t consm   & -0.06   & -0.03   &  0.07   &  0.00   &  0.14   &  0.07   &  0.04   &  0.06   & -0.02   & -0.01  \\\\\n",
       "\t extram  &  0.01   & -0.02   &  0.05   &  0.02   & -0.06   &  0.02   & -0.02   & -0.01   & -0.03   & -0.05  \\\\\n",
       "\\end{tabular}\n"
      ],
      "text/markdown": [
       "\n",
       "| X | educw | heightw | BMIw | healthw | consw | extraw | agreew | emow | autow | riskyw |\n",
       "|---|---|---|---|---|---|---|---|---|---|---|\n",
       "| educm   |  0.56   |  0.02   | -0.08   |  0.02   | -0.04   | -0.01   | -0.03   | -0.04   |  0.05   | -0.02   |\n",
       "| heightm |  0.01   |  0.18   |  0.04   | -0.01   | -0.04   |  0.05   |  0.02   |  0.02   |  0.02   |  0.02   |\n",
       "| BMIm    | -0.05   |  0.05   |  0.21   |  0.01   |  0.06   |  0.00   | -0.04   |  0.04   | -0.01   |  0.01   |\n",
       "| healthm | -0.07   |  0.00   | -0.06   |  0.14   | -0.04   |  0.05   | -0.04   |  0.04   |  0.02   |  0.00   |\n",
       "| consm   | -0.06   | -0.03   |  0.07   |  0.00   |  0.14   |  0.07   |  0.04   |  0.06   | -0.02   | -0.01   |\n",
       "| extram  |  0.01   | -0.02   |  0.05   |  0.02   | -0.06   |  0.02   | -0.02   | -0.01   | -0.03   | -0.05   |\n",
       "\n"
      ],
      "text/plain": [
       "     X       educw heightw BMIw  healthw consw extraw agreew emow  autow riskyw\n",
       "[1,] educm    0.56  0.02   -0.08  0.02   -0.04 -0.01  -0.03  -0.04  0.05 -0.02 \n",
       "[2,] heightm  0.01  0.18    0.04 -0.01   -0.04  0.05   0.02   0.02  0.02  0.02 \n",
       "[3,] BMIm    -0.05  0.05    0.21  0.01    0.06  0.00  -0.04   0.04 -0.01  0.01 \n",
       "[4,] healthm -0.07  0.00   -0.06  0.14   -0.04  0.05  -0.04   0.04  0.02  0.00 \n",
       "[5,] consm   -0.06 -0.03    0.07  0.00    0.14  0.07   0.04   0.06 -0.02 -0.01 \n",
       "[6,] extram   0.01 -0.02    0.05  0.02   -0.06  0.02  -0.02  -0.01 -0.03 -0.05 "
      ]
     },
     "metadata": {},
     "output_type": "display_data"
    }
   ],
   "source": [
    "head(data_aff)"
   ]
  },
  {
   "cell_type": "markdown",
   "metadata": {},
   "source": [
    "This problem of computation of the Optimal Assignment Problem, more specifically of $\\left(\\pi,u,v\\right)$, is arguably the most studied problem in Computer Science, and dozens, if not hundreds of algorithms exist, whose running time is polynomial in $\\max\\left(n,m\\right)$, typically a power less than three of the latter."
   ]
  },
  {
   "cell_type": "markdown",
   "metadata": {},
   "source": [
    "Famous algorithms include: the Hungarian algorithm (Kuhn-Munkres); Bertsekas' auction algorithm; Goldberg and Kennedy's pseudoflow algorithm. For more on these, see the book by Burkard, Dell'Amico, and Martello, and a\n",
    "introductory presentation in http://www.assignmentproblems.com/doc/LSAPIntroduction.pdf."
   ]
  },
  {
   "cell_type": "markdown",
   "metadata": {},
   "source": [
    "Here, we will show how to solve the problem with the help of a Linear Programming solver used as a black box; our challenge here will be to carefully set up the constraint matrix as a sparse matrix in order to let a large scale Linear Programming solvers such as Gurobi recognize and exploit the sparsity of the problem."
   ]
  },
  {
   "cell_type": "markdown",
   "metadata": {},
   "source": [
    "Let $\\Pi$ and $\\Phi$ be the matrices with typical elements $\\left(\n",
    "\\pi_{xy}\\right)  $ and $\\left(  \\Phi_{xy}\\right)  $. We let $p$, $q$, $u$,\n",
    "$v$, and $1$ the column vectors with entries $\\left(  p_{x}\\right)  $,\n",
    "$\\left(  q_{y}\\right)  $, $\\left(  u_{x}\\right)  $, $\\left(  v_{y}\\right)  $,\n",
    "and $1$, respectively. The optimal assignment problem\n",
    "\\begin{align}\n",
    "\\max_{\\pi\\geq0}  &  \\sum_{xy}\\pi_{xy}\\Phi_{xy}\\label{OAP}\\\\\n",
    "s.t.~  &  \\sum_{y\\in\\mathcal{Y}}\\pi_{xy}=p_{x}~\\left[  u_{x}\\right]\n",
    "\\nonumber\\\\\n",
    "&  \\sum_{x\\in\\mathcal{X}}\\pi_{xy}=q_{y}~\\left[  v_{y}\\right] \\nonumber\n",
    "\\end{align}\n",
    "\n",
    "Can be rewritten using matrix algebra as\n",
    "\\begin{align}\n",
    "&  \\max_{\\Pi\\geq0}Tr\\left(  \\Pi^{\\prime}\\Phi\\right) \\label{matrixLP}\\\\\n",
    "&  \\Pi1_{M}=p\\nonumber\\\\\n",
    "&  1_{N}^{\\prime}\\Pi=q^{\\prime}.\\nonumber\n",
    "\\end{align}"
   ]
  },
  {
   "cell_type": "markdown",
   "metadata": {},
   "source": [
    "We need to convert matrices into vectors; this can be done for instance\n",
    "by stacking the columns of $\\Pi$ into a single column vector (typical in R or\n",
    "Matlab). This operation is called *vectorization*, which we will denote\n",
    "\\begin{align*}\n",
    "vec\\left(  A\\right)  ,\n",
    "\\end{align*}\n",
    "which reshapes a $N\\times M$ matrix into a $nm\\times1$ vector. In `R`, this is\n",
    "implemented by `c(A)`; in Matlab, by `A(:)`."
   ]
  },
  {
   "cell_type": "markdown",
   "metadata": {},
   "source": [
    "The objective function rewrites as\n",
    "\\begin{align*}\n",
    "vec\\left(  \\Phi\\right)  ^{\\prime}vec\\left(  \\Pi\\right)  .\n",
    "\\end{align*}"
   ]
  },
  {
   "cell_type": "code",
   "execution_count": 6,
   "metadata": {},
   "outputs": [],
   "source": [
    "obj = c(Phi)"
   ]
  },
  {
   "cell_type": "markdown",
   "metadata": {},
   "source": [
    "Recall that if $A$ is a $M\\times p$ matrix and $B$ a $N\\times q$ matrix,\n",
    "then the Kronecker product $A\\otimes B$ of $A$ and $B$ is a $mn\\times\n",
    "pq$ matrix such that\n",
    "\\begin{equation}\n",
    "vec\\left(  BXA^{\\prime}\\right)  =\\left(  A\\otimes B\\right)  vec\\left(\n",
    "X\\right)  . \\label{VecAndKronecker}%\n",
    "\\end{equation}\n",
    "In R, $A\\otimes B$ is implemented by `kronecker(A,B)`; in Matlab, by `kron(A,B)`."
   ]
  },
  {
   "cell_type": "markdown",
   "metadata": {},
   "source": [
    "The first constraint $I_{N}\\Pi1_{M}=p$, vectorizes therefore as\n",
    "\\begin{align*}\n",
    "\\left(  1_{M}^{\\prime}\\otimes I_{N}\\right)  vec\\left(  \\Pi\\right)  =vec\\left(\n",
    "p\\right)  ,\n",
    "\\end{align*}\n",
    "and similarly, the second constraint $1_{N}^{\\prime}\\Pi I_{M}=q^{\\prime}$,\n",
    "vectorizes as\n",
    "\\begin{align*}\n",
    "\\left(  I_{M}\\otimes1_{N}^{\\prime}\\right)  vec\\left(  \\Pi\\right)  =vec\\left(\n",
    "q\\right)  .\n",
    "\\end{align*}"
   ]
  },
  {
   "cell_type": "markdown",
   "metadata": {},
   "source": [
    "Note that the matrix $1_{M}^{\\prime}\\otimes I_{N}$ is of size $N\\times\n",
    "NM$, and the matrix $I_{M}\\otimes1_{N}^{\\prime}$ is of size $M\\times NM$;\n",
    "hence the full matrix involved in the left-hand side of the constraints is of\n",
    "size $\\left(  N+M\\right)  \\times NM$. In spite of its large size, this matrix\n",
    "is *sparse*. In `R`, the identity matrix $I_{N}$ is coded as\n",
    "`sparseMatrix(1:N,1:N)`, in Matlab as `Speye(N)`."
   ]
  },
  {
   "cell_type": "code",
   "execution_count": 7,
   "metadata": {},
   "outputs": [],
   "source": [
    "N = dim(Phi)[1]\n",
    "M = dim(Phi)[2]\n",
    "\n",
    "A1 = kronecker(matrix(1, 1, M), sparseMatrix(1:N, 1:N))\n",
    "A2 = kronecker(sparseMatrix(1:M, 1:M), matrix(1, 1, N))\n",
    "A = rbind2(A1, A2)"
   ]
  },
  {
   "cell_type": "code",
   "execution_count": 8,
   "metadata": {},
   "outputs": [],
   "source": [
    "p = rep(1/nobs, nobs)\n",
    "q = rep(1/nobs, nobs)\n",
    "d = c(p, q)"
   ]
  },
  {
   "cell_type": "markdown",
   "metadata": {},
   "source": [
    "Setting $z=vec\\left(  \\Pi\\right)  $, the Linear Programming problem then\n",
    "becomes\n",
    "\\begin{align}\n",
    "&  \\max_{z\\geq0}vec\\left(  \\Phi\\right)  ^{\\prime}z\\label{LPvectorized}\\\\\n",
    "s.t.~  &  \\left(  1_{M}^{\\prime}\\otimes I_{N}\\right)  z=vec\\left(  p\\right)\n",
    "\\nonumber\\\\\n",
    "&  \\left(  I_{M}\\otimes1_{N}^{\\prime}\\right)  z=vec\\left(  q^{\\prime}\\right)\n",
    "\\nonumber\n",
    "\\end{align}\n",
    "which is ready to be passed on to a linear programming solver such as Gurobi."
   ]
  },
  {
   "cell_type": "markdown",
   "metadata": {},
   "source": [
    "A LP solver typically computes programs of the form\n",
    "\\begin{align}\n",
    "&  \\max_{z\\geq0}c^{\\prime}z\\label{standardLP}\\\\\n",
    "&  s.t.~Az=d.\\nonumber\n",
    "\\end{align}"
   ]
  },
  {
   "cell_type": "code",
   "execution_count": 9,
   "metadata": {},
   "outputs": [],
   "source": [
    "result = gurobi(list(A = A, obj = obj, modelsense = \"max\", rhs = d, sense = \"=\"), \n",
    "    params = list(OutputFlag = 0))\n",
    "if (result$status == \"OPTIMAL\") {\n",
    "    pi = matrix(result$x, nrow = N)\n",
    "    u = result$pi[1:N]\n",
    "    v = result$pi[(N + 1):(N + M)]\n",
    "    val = result$objval\n",
    "} else {\n",
    "    stop(\"optimization problem with Gurobi.\")\n",
    "}"
   ]
  },
  {
   "cell_type": "code",
   "execution_count": 10,
   "metadata": {},
   "outputs": [
    {
     "name": "stdout",
     "output_type": "stream",
     "text": [
      "[1] \"Value of the problem (Gurobi) = 1.70388302245657\"\n",
      " [1] 1.922803 1.286440 2.351599 3.030279 3.741377 2.725222 1.252313 1.988384\n",
      " [9] 1.445145 1.525087\n",
      " [1] -0.7409078 -0.9616074  0.6039734 -0.2880301 -1.1140921 -0.1014630\n",
      " [7] -0.6873566  0.5351975 -0.5838891 -0.1083689\n"
     ]
    }
   ],
   "source": [
    "print(paste0(\"Value of the problem (Gurobi) = \", val))\n",
    "print(u[1:10])\n",
    "print(v[1:10])"
   ]
  },
  {
   "cell_type": "code",
   "execution_count": null,
   "metadata": {},
   "outputs": [],
   "source": []
  }
 ],
 "metadata": {
  "kernelspec": {
   "display_name": "R",
   "language": "R",
   "name": "ir"
  },
  "language_info": {
   "codemirror_mode": "r",
   "file_extension": ".r",
   "mimetype": "text/x-r-source",
   "name": "R",
   "pygments_lexer": "r",
   "version": "3.5.2"
  }
 },
 "nbformat": 4,
 "nbformat_minor": 2
}
