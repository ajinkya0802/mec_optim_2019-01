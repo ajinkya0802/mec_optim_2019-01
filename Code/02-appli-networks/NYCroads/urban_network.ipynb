{
 "cells": [
  {
   "cell_type": "markdown",
   "metadata": {},
   "source": [
    "# Lecture 2 - 3"
   ]
  },
  {
   "cell_type": "markdown",
   "metadata": {},
   "source": [
    "## Shortest path problem by road in NYC"
   ]
  },
  {
   "cell_type": "markdown",
   "metadata": {},
   "source": [
    "Reference: \n",
    "\n",
    "Charpentier, A., Galichon, A., Vernet, L. (2017).  \n",
    "\n",
    "\"Equilibrium for spatial allocation problems on networks\""
   ]
  },
  {
   "cell_type": "code",
   "execution_count": null,
   "metadata": {},
   "outputs": [],
   "source": [
    "library(\"Matrix\")\n",
    "library(\"gurobi\")\n",
    "library(\"rgdal\")\n",
    "library(\"rdist\")"
   ]
  },
  {
   "cell_type": "code",
   "execution_count": null,
   "metadata": {},
   "outputs": [],
   "source": [
    "load(\"DataNYC.RData\")"
   ]
  },
  {
   "cell_type": "markdown",
   "metadata": {},
   "source": [
    "Function for shortest path"
   ]
  },
  {
   "cell_type": "code",
   "execution_count": null,
   "metadata": {},
   "outputs": [],
   "source": [
    "shortestPath = function(arcs, nodes, originNode, destinationNode) {\n",
    "    nbNodes = dim(nodes)[1]\n",
    "    nbArcs = dim(arcs)[1]\n",
    "    n = rep(0, nbNodes)\n",
    "    n[c(originNode, destinationNode)] = c(-1, 1)\n",
    "    Nabla = sparseMatrix(i = 1:nbArcs, j = arcs[, 1], dims = c(nbArcs, nbNodes), \n",
    "        x = -1) + sparseMatrix(i = 1:nbArcs, j = arcs[, 2], dims = c(nbArcs, nbNodes), \n",
    "        x = 1)\n",
    "    Phi <- -arcs[, 3]\n",
    "    \n",
    "    result = gurobi(list(A = t(Nabla), obj = Phi, modelsense = \"max\", rhs = n, sense = \"=\", \n",
    "        start = matrix(0, nbArcs, 1)), params = NULL)\n",
    "    pi = result$x\n",
    "    distance = -result$objval\n",
    "    \n",
    "    cont = TRUE\n",
    "    i = originNode\n",
    "    eqpath = which(pi > 0)\n",
    "    rank = 0\n",
    "    nodespath = c(0)\n",
    "    nodespath[rank + 1] = i\n",
    "    while (cont) {\n",
    "        rank = rank + 1\n",
    "        leavingi = which(Nabla[, i] == -1)\n",
    "        a = intersect(eqpath, leavingi)[1]\n",
    "        j = which(Nabla[a, ] == 1)[1]\n",
    "        i = j\n",
    "        nodespath[rank + 1] = i\n",
    "        if (j == destinationNode) {\n",
    "            cont <- FALSE\n",
    "        }\n",
    "    }\n",
    "    \n",
    "    return(nodespath)\n",
    "    \n",
    "    plot(shpNYC)\n",
    "    points(nodes[nodespath, ], col = \"red\")\n",
    "}"
   ]
  },
  {
   "cell_type": "markdown",
   "metadata": {},
   "source": [
    "Excecute the function"
   ]
  },
  {
   "cell_type": "markdown",
   "metadata": {},
   "source": [
    "To get coordinates associated with an address:\n",
    "https://www.gps-coordinates.net/"
   ]
  },
  {
   "cell_type": "code",
   "execution_count": null,
   "metadata": {},
   "outputs": [],
   "source": [
    "startlat = 40.70102\n",
    "startlong = -73.90414\n",
    "finishlat = 40.7290094\n",
    "finishlong = -73.9952367\n",
    "\n",
    "StartGPS = matrix(c(startlong, startlat), ncol = 2)\n",
    "FinishGPS = matrix(c(finishlong, finishlat), ncol = 2)\n",
    "StartNAD83 = project(StartGPS, \"+proj=lcc +lat_1=40.66666666666666 +lat_2=41.03333333333333 +lat_0=40.16666666666666 +lon_0=-74 +x_0=300000 +y_0=0 +datum=NAD83 +units=us-ft +no_defs\")\n",
    "FinishNAD83 = project(FinishGPS, \"+proj=lcc +lat_1=40.66666666666666 +lat_2=41.03333333333333 +lat_0=40.16666666666666 +lon_0=-74 +x_0=300000 +y_0=0 +datum=NAD83 +units=us-ft +no_defs\")\n",
    "StartNode = which.min(cdist(StartNAD83, nodes, metric = \"euclidean\"))\n",
    "FinishNode = which.min(cdist(FinishNAD83, nodes, metric = \"euclidean\"))\n",
    "nodespath = shortestPath(arcs, nodes, StartNode, FinishNode)"
   ]
  },
  {
   "cell_type": "markdown",
   "metadata": {},
   "source": [
    "Plot the result (this will take a while, so don't worry)."
   ]
  },
  {
   "cell_type": "code",
   "execution_count": null,
   "metadata": {},
   "outputs": [],
   "source": [
    "plot(shpNYC)\n",
    "points(nodes[nodespath, ], col = \"red\")"
   ]
  }
 ],
 "metadata": {
  "kernelspec": {
   "display_name": "R",
   "language": "R",
   "name": "ir"
  },
  "language_info": {
   "codemirror_mode": "r",
   "file_extension": ".r",
   "mimetype": "text/x-r-source",
   "name": "R",
   "pygments_lexer": "r",
   "version": "3.5.2"
  }
 },
 "nbformat": 4,
 "nbformat_minor": 2
}
