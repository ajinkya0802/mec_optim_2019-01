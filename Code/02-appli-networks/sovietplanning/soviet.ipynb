{
 "cells": [
  {
   "cell_type": "markdown",
   "metadata": {},
   "source": [
    "# Lecture 2 - 1"
   ]
  },
  {
   "cell_type": "markdown",
   "metadata": {},
   "source": [
    "## Soviet planning problem"
   ]
  },
  {
   "cell_type": "markdown",
   "metadata": {},
   "source": [
    "We are trying to "
   ]
  },
  {
   "cell_type": "markdown",
   "metadata": {},
   "source": [
    "The problem that we are trying to solve is \n",
    "\\begin{align}\n",
    "\\min_{\\pi \\geq 0} \\sum_{(x,y) \\in \\mathcal{A}} \\pi_{xy} c_{xy} \\\\\n",
    "\\text{s.t. } \\nabla^T \\pi = n \n",
    "\\end{align}"
   ]
  },
  {
   "cell_type": "code",
   "execution_count": null,
   "metadata": {},
   "outputs": [],
   "source": [
    "library(\"gurobi\")\n",
    "library(\"Matrix\")\n",
    "\n",
    "thePath = getwd()\n",
    "data = as.matrix(read.csv(paste0(thePath, \"/distances.csv\"), sep = \",\", header = TRUE))  # loads the data\n",
    "head(data)\n",
    "tail(data)"
   ]
  },
  {
   "cell_type": "code",
   "execution_count": null,
   "metadata": {},
   "outputs": [],
   "source": [
    "nsources = 68\n",
    "ndests = 10\n",
    "dists = matrix(as.numeric(data[1:68, 2:11]), 68, 10)\n",
    "demand = matrix(as.numeric(data[1:68, 12]))\n",
    "supply = matrix(as.numeric(data[69, 2:11]))\n",
    "nonzeros = which(!is.na(dists))\n",
    "\n",
    "nbNodes = nsources + ndests\n",
    "nbArcs = length(nonzeros)\n",
    "\n",
    "rows = (nonzeros - 1)%%nsources + 1\n",
    "cols = (nonzeros - 1)%/%nsources + 1\n",
    "c = dists[nonzeros]\n",
    "arcs = cbind(rows, cols + nsources, c)\n",
    "\n",
    "n = c(-demand, supply)\n",
    "nameNodes = c(data[2:(nsources + 1)], dimnames(data)[[2]][2:11])"
   ]
  },
  {
   "cell_type": "markdown",
   "metadata": {},
   "source": [
    "Construct node-incidence matrix:"
   ]
  },
  {
   "cell_type": "code",
   "execution_count": null,
   "metadata": {},
   "outputs": [],
   "source": [
    "Nabla = sparseMatrix(i = 1:nbArcs, j = arcs[, 1], dims = c(nbArcs, nbNodes), x = -1) + \n",
    "    sparseMatrix(i = 1:nbArcs, j = arcs[, 2], dims = c(nbArcs, nbNodes), x = 1)"
   ]
  },
  {
   "cell_type": "markdown",
   "metadata": {},
   "source": [
    "Now let's solve using Gurobi:\n",
    "* `A` = $\\nabla^T$\n",
    "* `obj` = $c$\n",
    "* `sense` = '$=$'\n",
    "* `rhs` = $n$\n",
    "* `modelsense` = '$\\min$'."
   ]
  },
  {
   "cell_type": "code",
   "execution_count": null,
   "metadata": {},
   "outputs": [],
   "source": [
    "result = gurobi(list(A = t(Nabla), obj = c, modelsense = \"min\", rhs = n, sense = \"=\", \n",
    "    start = matrix(0, nbArcs, 1)), params = NULL)\n",
    "pi = result$x\n",
    "distance = result$objval\n",
    "\n",
    "print(distance)"
   ]
  }
 ],
 "metadata": {
  "kernelspec": {
   "display_name": "R",
   "language": "R",
   "name": "ir"
  },
  "language_info": {
   "codemirror_mode": "r",
   "file_extension": ".r",
   "mimetype": "text/x-r-source",
   "name": "R",
   "pygments_lexer": "r",
   "version": "3.5.2"
  }
 },
 "nbformat": 4,
 "nbformat_minor": 2
}
