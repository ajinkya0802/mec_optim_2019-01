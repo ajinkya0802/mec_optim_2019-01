{
 "cells": [
  {
   "cell_type": "markdown",
   "metadata": {},
   "source": [
    "# Lecture 2 - 2"
   ]
  },
  {
   "cell_type": "markdown",
   "metadata": {},
   "source": [
    "We are going to use data on NYC (Paris) subway system to find the shortest path from 2 stations. The nodes are the subway station, stored in `nodes.csv` and the arcs are the distance / time between connecting nodes, stored in `arcs.csv`."
   ]
  },
  {
   "cell_type": "code",
   "execution_count": null,
   "metadata": {},
   "outputs": [],
   "source": [
    "library(\"gurobi\")\n",
    "library(\"Matrix\")\n",
    "library(\"magick\")\n",
    "city = \"NYC\"  # 'Paris'"
   ]
  },
  {
   "cell_type": "markdown",
   "metadata": {},
   "source": [
    "Let's load up and examine our data"
   ]
  },
  {
   "cell_type": "code",
   "execution_count": null,
   "metadata": {},
   "outputs": [],
   "source": [
    "thePath = getwd()\n",
    "arcs = as.matrix(read.csv(paste0(thePath, \"/\", city, \"/arcs.csv\"), sep = \",\", header = TRUE))  # loads the arc data\n",
    "nodes = as.matrix(read.csv(paste0(thePath, \"/\", city, \"/nodes.csv\"), sep = \",\", header = TRUE))  # loads the nodes data\n",
    "head(arcs)"
   ]
  },
  {
   "cell_type": "code",
   "execution_count": null,
   "metadata": {},
   "outputs": [],
   "source": [
    "options(repr.matrix.max.rows = 600, repr.matrix.max.cols = 20)  # to show the entire matrix (defaults are 60 and 20) so you can find your stops\n",
    "nodes"
   ]
  },
  {
   "cell_type": "markdown",
   "metadata": {},
   "source": [
    "Now let's get things into a form that we can use! The problem that we are trying to solve is \n",
    "\\begin{align}\n",
    "\\min_{\\pi \\geq 0} \\sum_{(x,y) \\in \\mathcal{A}} \\pi_{xy} c_{xy} \\\\\n",
    "\\text{s.t. } \\nabla^T \\pi = n \n",
    "\\end{align}"
   ]
  },
  {
   "cell_type": "markdown",
   "metadata": {},
   "source": [
    "Suppose that the network has `nbNodes` nodes and `nbArcs` arcs.\n",
    "* $\\pi$ is our object of interest,\n",
    "* $c$ a vector of length `nbArcs` such that $c_a$ is the transportation cost at arc $a$,\n",
    "* $\\nabla$ is an matrix of size `nbArcs` $\\times$ `nbNodes`. If the first arc has $i$ as the origin node and $j$ as the the destination node then $\\nabla_{1i} = -1$ and $\\nabla_{1j} = 1$,\n",
    "* $n$, a vector of length `nbNodes` such that $n_x$ is the net demand at node $x$, i.e. $n_i = -1$, $n_j = 1$;"
   ]
  },
  {
   "cell_type": "code",
   "execution_count": null,
   "metadata": {},
   "outputs": [],
   "source": [
    "originNode = 383  # Union Sq. on the L train\n",
    "destinationNode = 394  # Myrtle Wyckoff on the L train"
   ]
  },
  {
   "cell_type": "code",
   "execution_count": null,
   "metadata": {},
   "outputs": [],
   "source": [
    "nbNodes = max(as.numeric(arcs[, 1]))\n",
    "nbArcs = dim(arcs)[1]\n",
    "namesNodes = nodes[, 1]\n",
    "c = arcs[, 3]\n",
    "n = rep(0, nbNodes)  # construct vector of exiting flow, net demand is zero\n",
    "n[c(originNode, destinationNode)] = c(-1, 1)  # except for our origin and destination"
   ]
  },
  {
   "cell_type": "code",
   "execution_count": null,
   "metadata": {},
   "outputs": [],
   "source": [
    "?sparseMatrix"
   ]
  },
  {
   "cell_type": "code",
   "execution_count": null,
   "metadata": {},
   "outputs": [],
   "source": [
    "Nabla = sparseMatrix(i = 1:nbArcs, j = as.numeric(arcs[, 1]), dims = c(nbArcs, nbNodes), \n",
    "    x = -1) + sparseMatrix(i = 1:nbArcs, j = as.numeric(arcs[, 2]), dims = c(nbArcs, \n",
    "    nbNodes), x = 1)"
   ]
  },
  {
   "cell_type": "code",
   "execution_count": null,
   "metadata": {},
   "outputs": [],
   "source": [
    "result = gurobi(list(A = t(Nabla), obj = as.numeric(c), sense = \"=\", rhs = n, modelsense = \"min\", \n",
    "    start = matrix(0, nbArcs, 1)), params = NULL)\n",
    "pi = result$x\n",
    "distance = result$objval"
   ]
  },
  {
   "cell_type": "markdown",
   "metadata": {},
   "source": [
    "Let's deduce the minimal distance path"
   ]
  },
  {
   "cell_type": "code",
   "execution_count": null,
   "metadata": {
    "scrolled": true
   },
   "outputs": [],
   "source": [
    "# Some plotting stuff\n",
    "themargin = -c(1, 1, 0.5, 0.2)\n",
    "require(\"igraph\")\n",
    "geoCoordinates = nodes[, 3:4]\n",
    "class(geoCoordinates) = \"numeric\"\n",
    "# mapCoordinates = nodes[,5:6] class(mapCoordinates)='numeric'\n",
    "nbNodes = max(arcs[, 1])\n",
    "nbArcs = dim(arcs)[1]\n",
    "\n",
    "plotCurrentNetwork = function(network, curNode) {\n",
    "    sizeNodes = rep(1, nbNodes)\n",
    "    sizeNodes[originNode] = 4\n",
    "    sizeNodes[destinationNode] = 4\n",
    "    sizeNodes[curNode] = 4\n",
    "    labelNodes = rep(NA, nbNodes)\n",
    "    labelNodes[originNode] = namesNodes[originNode]\n",
    "    labelNodes[destinationNode] = namesNodes[destinationNode]\n",
    "    labelNodes[curNode] = namesNodes[curNode]\n",
    "    plot.igraph(network, vertex.label = labelNodes, vertex.label.cex = 1, vertex.size = sizeNodes, \n",
    "        edge.arrow.size = 0, layout = geoCoordinates, margin = themargin)\n",
    "}\n",
    "\n",
    "thegraph = graph_from_edgelist(arcs[, 1:2])\n",
    "\n",
    "labelColors = rep(\"SkyBlue2\", nbNodes)\n",
    "labelColors[originNode] = \"firebrick2\"\n",
    "labelColors[destinationNode] = \"forestgreen\"\n",
    "\n",
    "sizeNodes = rep(1, nbNodes)\n",
    "sizeNodes[originNode] = 4\n",
    "sizeNodes[destinationNode] = 4\n",
    "\n",
    "nbNodesSoFar = 1\n",
    "curpoint = originNode\n",
    "\n",
    "cont = TRUE\n",
    "i = originNode\n",
    "writeLines(paste0(namesNodes[i], \" (#\", i, \")\"))\n",
    "eqpath = which(pi > 0)\n",
    "rank = 0\n",
    "\n",
    "frames = image_graph(width = 600, height = 600, res = 150)\n",
    "\n",
    "cont = TRUE\n",
    "i = originNode\n",
    "writeLines(paste0(namesNodes[i], \" (#\", i, \")\"))\n",
    "eqpath = which(pi > 0)\n",
    "rank = 0\n",
    "while (cont) {\n",
    "    rank = rank + 1\n",
    "    leavingi = which(Nabla[, i] == -1)\n",
    "    a = intersect(eqpath, leavingi)[1]\n",
    "    j = which(Nabla[a, ] == 1)[1]\n",
    "    plotCurrentNetwork(thegraph, j)\n",
    "    writeLines(paste0(rank, \": \", namesNodes[j], \" (#\", j, \")\"))\n",
    "    i = j\n",
    "    if (j == destinationNode) {\n",
    "        cont <- FALSE\n",
    "    }\n",
    "}\n",
    "# done with plotting\n",
    "dev.off()"
   ]
  },
  {
   "cell_type": "code",
   "execution_count": null,
   "metadata": {},
   "outputs": [],
   "source": [
    "# animate\n",
    "image_animate(frames, 1)"
   ]
  }
 ],
 "metadata": {
  "kernelspec": {
   "display_name": "R",
   "language": "R",
   "name": "ir"
  },
  "language_info": {
   "codemirror_mode": "r",
   "file_extension": ".r",
   "mimetype": "text/x-r-source",
   "name": "R",
   "pygments_lexer": "r",
   "version": "3.5.2"
  }
 },
 "nbformat": 4,
 "nbformat_minor": 2
}
