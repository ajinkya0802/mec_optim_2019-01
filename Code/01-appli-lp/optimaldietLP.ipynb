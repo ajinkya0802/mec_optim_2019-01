{
 "cells": [
  {
   "cell_type": "markdown",
   "metadata": {},
   "source": [
    "# Lecture 1"
   ]
  },
  {
   "cell_type": "markdown",
   "metadata": {},
   "source": [
    "Today we shall retrieve Stigler’s diet data and compute the optimal diet in order to compare with Stigler’s computations. We shall do so from R, using in turn Gurobi and GLPK."
   ]
  },
  {
   "cell_type": "markdown",
   "metadata": {},
   "source": [
    "First let's load up the Gurobi library."
   ]
  },
  {
   "cell_type": "code",
   "execution_count": 2,
   "metadata": {},
   "outputs": [
    {
     "name": "stderr",
     "output_type": "stream",
     "text": [
      "Using the GLPK callable library version 4.47\n"
     ]
    }
   ],
   "source": [
    "library(gurobi)\n",
    "library(tictoc)\n",
    "library(Rglpk)"
   ]
  },
  {
   "cell_type": "markdown",
   "metadata": {},
   "source": [
    "Then import the data"
   ]
  },
  {
   "cell_type": "code",
   "execution_count": 3,
   "metadata": {},
   "outputs": [
    {
     "data": {
      "text/html": [
       "<table>\n",
       "<thead><tr><th scope=col>Commodity</th><th scope=col>Unit</th><th scope=col>Price.Aug.15.1939.cents.</th><th scope=col>Edible.Weight.per..1.00..grams.</th><th scope=col>Calories..1000.</th><th scope=col>Protein.grams.</th><th scope=col>Calcium.grams.</th><th scope=col>Iron.mg..</th><th scope=col>Vitamin.A.1000.I.U.</th><th scope=col>Thiamine.mg..</th><th scope=col>Riboflavin.mg..</th><th scope=col>Niacin.mg..</th><th scope=col>Asorbic.Acid..mg..</th></tr></thead>\n",
       "<tbody>\n",
       "\t<tr><td>1. Wheat Flour (Enriched) </td><td>10 lb.                    </td><td>36.0                      </td><td>12600                     </td><td>44.7                      </td><td>1411                      </td><td> 2.0                      </td><td>365                       </td><td>NA                        </td><td>55.4                      </td><td>33.3                      </td><td>441                       </td><td>NA                        </td></tr>\n",
       "\t<tr><td>2. Macaroni               </td><td>1 lb.                     </td><td>14.1                      </td><td> 3217                     </td><td>11.6                      </td><td> 418                      </td><td> 0.7                      </td><td> 54                       </td><td>NA                        </td><td> 3.2                      </td><td> 1.9                      </td><td> 68                       </td><td>NA                        </td></tr>\n",
       "\t<tr><td>3. Wheat Cereal (Enriched)</td><td>28 oz.                    </td><td>24.2                      </td><td> 3280                     </td><td>11.8                      </td><td> 377                      </td><td>14.4                      </td><td>175                       </td><td>NA                        </td><td>14.4                      </td><td> 8.8                      </td><td>114                       </td><td>NA                        </td></tr>\n",
       "\t<tr><td>4. Corn Flakes            </td><td>8 oz.                     </td><td> 7.1                      </td><td> 3194                     </td><td>11.4                      </td><td> 252                      </td><td> 0.1                      </td><td> 56                       </td><td>NA                        </td><td>13.5                      </td><td> 2.3                      </td><td> 68                       </td><td>NA                        </td></tr>\n",
       "\t<tr><td>5. Corn Meal              </td><td>1 lb.                     </td><td> 4.6                      </td><td> 9861                     </td><td>36.0                      </td><td> 897                      </td><td> 1.7                      </td><td> 99                       </td><td> 30.9                     </td><td>17.4                      </td><td> 7.9                      </td><td>106                       </td><td>NA                        </td></tr>\n",
       "\t<tr><td>6. Hominy Grits           </td><td>24 oz.                    </td><td> 8.5                      </td><td> 8005                     </td><td>28.6                      </td><td> 680                      </td><td> 0.8                      </td><td> 80                       </td><td>NA                        </td><td>10.6                      </td><td> 1.6                      </td><td>110                       </td><td>NA                        </td></tr>\n",
       "</tbody>\n",
       "</table>\n"
      ],
      "text/latex": [
       "\\begin{tabular}{lllllllllllll}\n",
       " Commodity & Unit & Price.Aug.15.1939.cents. & Edible.Weight.per..1.00..grams. & Calories..1000. & Protein.grams. & Calcium.grams. & Iron.mg.. & Vitamin.A.1000.I.U. & Thiamine.mg.. & Riboflavin.mg.. & Niacin.mg.. & Asorbic.Acid..mg..\\\\\n",
       "\\hline\n",
       "\t 1. Wheat Flour (Enriched)  & 10 lb.                     & 36.0                       & 12600                      & 44.7                       & 1411                       &  2.0                       & 365                        & NA                         & 55.4                       & 33.3                       & 441                        & NA                        \\\\\n",
       "\t 2. Macaroni                & 1 lb.                      & 14.1                       &  3217                      & 11.6                       &  418                       &  0.7                       &  54                        & NA                         &  3.2                       &  1.9                       &  68                        & NA                        \\\\\n",
       "\t 3. Wheat Cereal (Enriched) & 28 oz.                     & 24.2                       &  3280                      & 11.8                       &  377                       & 14.4                       & 175                        & NA                         & 14.4                       &  8.8                       & 114                        & NA                        \\\\\n",
       "\t 4. Corn Flakes             & 8 oz.                      &  7.1                       &  3194                      & 11.4                       &  252                       &  0.1                       &  56                        & NA                         & 13.5                       &  2.3                       &  68                        & NA                        \\\\\n",
       "\t 5. Corn Meal               & 1 lb.                      &  4.6                       &  9861                      & 36.0                       &  897                       &  1.7                       &  99                        &  30.9                      & 17.4                       &  7.9                       & 106                        & NA                        \\\\\n",
       "\t 6. Hominy Grits            & 24 oz.                     &  8.5                       &  8005                      & 28.6                       &  680                       &  0.8                       &  80                        & NA                         & 10.6                       &  1.6                       & 110                        & NA                        \\\\\n",
       "\\end{tabular}\n"
      ],
      "text/markdown": [
       "\n",
       "| Commodity | Unit | Price.Aug.15.1939.cents. | Edible.Weight.per..1.00..grams. | Calories..1000. | Protein.grams. | Calcium.grams. | Iron.mg.. | Vitamin.A.1000.I.U. | Thiamine.mg.. | Riboflavin.mg.. | Niacin.mg.. | Asorbic.Acid..mg.. |\n",
       "|---|---|---|---|---|---|---|---|---|---|---|---|---|\n",
       "| 1. Wheat Flour (Enriched)  | 10 lb.                     | 36.0                       | 12600                      | 44.7                       | 1411                       |  2.0                       | 365                        | NA                         | 55.4                       | 33.3                       | 441                        | NA                         |\n",
       "| 2. Macaroni                | 1 lb.                      | 14.1                       |  3217                      | 11.6                       |  418                       |  0.7                       |  54                        | NA                         |  3.2                       |  1.9                       |  68                        | NA                         |\n",
       "| 3. Wheat Cereal (Enriched) | 28 oz.                     | 24.2                       |  3280                      | 11.8                       |  377                       | 14.4                       | 175                        | NA                         | 14.4                       |  8.8                       | 114                        | NA                         |\n",
       "| 4. Corn Flakes             | 8 oz.                      |  7.1                       |  3194                      | 11.4                       |  252                       |  0.1                       |  56                        | NA                         | 13.5                       |  2.3                       |  68                        | NA                         |\n",
       "| 5. Corn Meal               | 1 lb.                      |  4.6                       |  9861                      | 36.0                       |  897                       |  1.7                       |  99                        |  30.9                      | 17.4                       |  7.9                       | 106                        | NA                         |\n",
       "| 6. Hominy Grits            | 24 oz.                     |  8.5                       |  8005                      | 28.6                       |  680                       |  0.8                       |  80                        | NA                         | 10.6                       |  1.6                       | 110                        | NA                         |\n",
       "\n"
      ],
      "text/plain": [
       "     Commodity                  Unit   Price.Aug.15.1939.cents.\n",
       "[1,] 1. Wheat Flour (Enriched)  10 lb. 36.0                    \n",
       "[2,] 2. Macaroni                1 lb.  14.1                    \n",
       "[3,] 3. Wheat Cereal (Enriched) 28 oz. 24.2                    \n",
       "[4,] 4. Corn Flakes             8 oz.   7.1                    \n",
       "[5,] 5. Corn Meal               1 lb.   4.6                    \n",
       "[6,] 6. Hominy Grits            24 oz.  8.5                    \n",
       "     Edible.Weight.per..1.00..grams. Calories..1000. Protein.grams.\n",
       "[1,] 12600                           44.7            1411          \n",
       "[2,]  3217                           11.6             418          \n",
       "[3,]  3280                           11.8             377          \n",
       "[4,]  3194                           11.4             252          \n",
       "[5,]  9861                           36.0             897          \n",
       "[6,]  8005                           28.6             680          \n",
       "     Calcium.grams. Iron.mg.. Vitamin.A.1000.I.U. Thiamine.mg.. Riboflavin.mg..\n",
       "[1,]  2.0           365       NA                  55.4          33.3           \n",
       "[2,]  0.7            54       NA                   3.2           1.9           \n",
       "[3,] 14.4           175       NA                  14.4           8.8           \n",
       "[4,]  0.1            56       NA                  13.5           2.3           \n",
       "[5,]  1.7            99        30.9               17.4           7.9           \n",
       "[6,]  0.8            80       NA                  10.6           1.6           \n",
       "     Niacin.mg.. Asorbic.Acid..mg..\n",
       "[1,] 441         NA                \n",
       "[2,]  68         NA                \n",
       "[3,] 114         NA                \n",
       "[4,]  68         NA                \n",
       "[5,] 106         NA                \n",
       "[6,] 110         NA                "
      ]
     },
     "metadata": {},
     "output_type": "display_data"
    }
   ],
   "source": [
    "# setwd('')\n",
    "thepath = getwd()\n",
    "filename = \"/StiglerData1939.txt\"\n",
    "thedata = as.matrix(read.csv(paste0(thepath, filename), sep = \"\\t\", header = T))\n",
    "head(thedata)"
   ]
  },
  {
   "cell_type": "markdown",
   "metadata": {},
   "source": [
    "Recall that the problem is \n",
    "\\begin{align}\n",
    "\\min_{q \\geq 0} \\, c^T q \\\\\n",
    "\\text{s.t. }Nq \\geq d\n",
    "\\end{align}\n",
    "$c$ is simply a vector of ones, the size of the number of commodities. $N$ is a matrix of amount of nutrients in each commodity. $d$ is the required daily allowance of each nutrient."
   ]
  },
  {
   "cell_type": "code",
   "execution_count": 4,
   "metadata": {},
   "outputs": [],
   "source": [
    "nbCommodities = length(which(thedata[, 1] != \"\")) - 1\n",
    "names = thedata[1:nbCommodities, 1]\n",
    "themat = matrix(as.numeric(thedata[, 3:13]), ncol = 11)\n",
    "themat[is.na(themat)] = 0\n",
    "N = t(themat[1:nbCommodities, 3:11])\n",
    "d = themat[(nbCommodities + 1), 3:11]\n",
    "c = rep(1, nbCommodities)"
   ]
  },
  {
   "cell_type": "markdown",
   "metadata": {},
   "source": [
    "Now lets try out gurobi!"
   ]
  },
  {
   "cell_type": "code",
   "execution_count": 5,
   "metadata": {},
   "outputs": [],
   "source": [
    "?gurobi"
   ]
  },
  {
   "cell_type": "code",
   "execution_count": 15,
   "metadata": {},
   "outputs": [],
   "source": [
    "?gurobi_model"
   ]
  },
  {
   "cell_type": "code",
   "execution_count": 7,
   "metadata": {},
   "outputs": [],
   "source": [
    "?gurobi_params"
   ]
  },
  {
   "cell_type": "markdown",
   "metadata": {},
   "source": [
    "So mapping from gurobis notation to ours, \n",
    "* `A` = $N$\n",
    "* `obj` = $c$\n",
    "* `sense` = '$>$'\n",
    "* `rhs` = $d$\n",
    "* `modelsense` = '$\\min$'"
   ]
  },
  {
   "cell_type": "code",
   "execution_count": 8,
   "metadata": {},
   "outputs": [
    {
     "name": "stdout",
     "output_type": "stream",
     "text": [
      "Optimize a model with 9 rows, 77 columns and 570 nonzeros\n",
      "Coefficient statistics:\n",
      "  Matrix range     [1e-01, 5e+03]\n",
      "  Objective range  [1e+00, 1e+00]\n",
      "  Bounds range     [0e+00, 0e+00]\n",
      "  RHS range        [8e-01, 8e+01]\n",
      "Presolve removed 0 rows and 47 columns\n",
      "Presolve time: 0.01s\n",
      "Presolved: 9 rows, 30 columns, 240 nonzeros\n",
      "\n",
      "Iteration    Objective       Primal Inf.    Dual Inf.      Time\n",
      "       0    0.0000000e+00   1.384688e+01   0.000000e+00      0s\n",
      "       5    1.0866228e-01   0.000000e+00   0.000000e+00      0s\n",
      "\n",
      "Solved in 5 iterations and 0.02 seconds\n",
      "Optimal objective  1.086622782e-01\n",
      "0.06 sec elapsed\n"
     ]
    }
   ],
   "source": [
    "tic()\n",
    "result = gurobi(list(A = N, obj = c, sense = \">\", rhs = d, modelsense = \"min\"))  #, params = list(OutputFlag = 0)) \n",
    "toc()"
   ]
  },
  {
   "cell_type": "markdown",
   "metadata": {},
   "source": [
    "Let's see what is in the `result` list"
   ]
  },
  {
   "cell_type": "code",
   "execution_count": 9,
   "metadata": {},
   "outputs": [
    {
     "name": "stdout",
     "output_type": "stream",
     "text": [
      "List of 13\n",
      " $ status      : chr \"OPTIMAL\"\n",
      " $ runtime     : num 0.0213\n",
      " $ itercount   : num 5\n",
      " $ baritercount: int 0\n",
      " $ nodecount   : num 0\n",
      " $ objval      : num 0.109\n",
      " $ x           : num [1:77] 0.0295 0 0 0 0 ...\n",
      " $ slack       : num [1:9] 0 -77.4 0 -48.5 0 ...\n",
      " $ rc          : num [1:77] 0 0.845 0.296 0.859 0.489 ...\n",
      " $ pi          : num [1:9] 0.00877 0 0.03174 0 0.0004 ...\n",
      " $ vbasis      : int [1:77] 0 -1 -1 -1 -1 -1 -1 -1 -1 -1 ...\n",
      " $ cbasis      : int [1:9] -1 0 -1 0 -1 0 -1 0 -1\n",
      " $ objbound    : num 0.109\n"
     ]
    }
   ],
   "source": [
    "str(result)"
   ]
  },
  {
   "cell_type": "markdown",
   "metadata": {},
   "source": [
    "We are after the optimal solutions `x`, the dual solution `pi` and the value function `objval`"
   ]
  },
  {
   "cell_type": "code",
   "execution_count": 10,
   "metadata": {},
   "outputs": [],
   "source": [
    "q_yearly = result$x * 365  # convert into yearly cost\n",
    "pi = result$pi\n",
    "cost_daily = result$objval"
   ]
  },
  {
   "cell_type": "markdown",
   "metadata": {},
   "source": [
    "Our optimal solution (including only foods which are non-zero)"
   ]
  },
  {
   "cell_type": "code",
   "execution_count": 11,
   "metadata": {},
   "outputs": [
    {
     "name": "stdout",
     "output_type": "stream",
     "text": [
      "[1] \"*** optimal solution ***\"\n",
      "1. Wheat Flour (Enriched)          30. Liver (Beef)               46. Cabbage \n",
      "               10.7744575                 0.6907834                 4.0932689 \n",
      "             52. Spinach       69. Navy Beans Dried \n",
      "                1.8277961                22.2754257 \n",
      "[1] \"Total cost (optimal)= 39.6617315454663\"\n"
     ]
    }
   ],
   "source": [
    "print(\"*** optimal solution ***\")\n",
    "toKeep = which(q_yearly != 0)\n",
    "foods = q_yearly[toKeep]\n",
    "names(foods) = names[toKeep]\n",
    "print(foods)\n",
    "print(paste0(\"Total cost (optimal)= \", sum(q_yearly * c)))"
   ]
  },
  {
   "cell_type": "markdown",
   "metadata": {},
   "source": [
    "Compare with Stigler's solution"
   ]
  },
  {
   "cell_type": "code",
   "execution_count": 12,
   "metadata": {},
   "outputs": [
    {
     "name": "stdout",
     "output_type": "stream",
     "text": [
      "[1] \"*** Stigler's solution ***\"\n",
      "1. Wheat Flour (Enriched) 15. Evaporated Milk (can)               46. Cabbage \n",
      "                    13.33                      3.84                      4.11 \n",
      "             52. Spinach       69. Navy Beans Dried \n",
      "                     1.85                     16.80 \n",
      "[1] \"Total cost (Stigler)= 39.93\"\n"
     ]
    }
   ],
   "source": [
    "print(\"*** Stigler's solution ***\")\n",
    "toKeepStigler = c(1, 15, 46, 52, 69)\n",
    "foods_stigler = c(13.33, 3.84, 4.11, 1.85, 16.8)\n",
    "names(foods_stigler) = names[toKeepStigler]\n",
    "print(foods_stigler)\n",
    "print(paste0(\"Total cost (Stigler)= \", sum(foods_stigler * c[toKeepStigler])))"
   ]
  },
  {
   "cell_type": "markdown",
   "metadata": {},
   "source": [
    "Alternatively we could use `R's` `glpk`"
   ]
  },
  {
   "cell_type": "code",
   "execution_count": 13,
   "metadata": {},
   "outputs": [
    {
     "name": "stdout",
     "output_type": "stream",
     "text": [
      "[1] \"*** Optimal solution using Rglpk ***\"\n",
      "[1] 39.66173\n",
      "0 sec elapsed\n"
     ]
    }
   ],
   "source": [
    "tic()\n",
    "print(\"*** Optimal solution using Rglpk ***\")\n",
    "resGlpk = Rglpk_solve_LP(obj = c, mat = N, dir = rep(\">\", length(d)), rhs = d, bounds = NULL, \n",
    "    max = FALSE, control = list())\n",
    "print(resGlpk$optimum * 365)\n",
    "toc()"
   ]
  },
  {
   "cell_type": "code",
   "execution_count": null,
   "metadata": {},
   "outputs": [],
   "source": []
  }
 ],
 "metadata": {
  "kernelspec": {
   "display_name": "R",
   "language": "R",
   "name": "ir"
  },
  "language_info": {
   "codemirror_mode": "r",
   "file_extension": ".r",
   "mimetype": "text/x-r-source",
   "name": "R",
   "pygments_lexer": "r",
   "version": "3.5.2"
  }
 },
 "nbformat": 4,
 "nbformat_minor": 2
}
