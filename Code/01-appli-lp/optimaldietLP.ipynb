{
 "cells": [
  {
   "cell_type": "markdown",
   "metadata": {},
   "source": [
    "# Lecture 1"
   ]
  },
  {
   "cell_type": "markdown",
   "metadata": {},
   "source": [
    "Today we shall retrieve Stigler’s diet data and compute the optimal diet in order to compare with Stigler’s computations. We shall do so from R, using in turn Gurobi and GLPK."
   ]
  },
  {
   "cell_type": "markdown",
   "metadata": {},
   "source": [
    "First let's load up the Gurobi library."
   ]
  },
  {
   "cell_type": "code",
   "execution_count": null,
   "metadata": {},
   "outputs": [],
   "source": [
    "library(gurobi)\n",
    "library(tictoc)\n",
    "library(Rglpk)"
   ]
  },
  {
   "cell_type": "markdown",
   "metadata": {},
   "source": [
    "Then import the data"
   ]
  },
  {
   "cell_type": "code",
   "execution_count": null,
   "metadata": {},
   "outputs": [],
   "source": [
    "# setwd('')\n",
    "thepath = getwd()\n",
    "filename = \"/StiglerData1939.txt\"\n",
    "thedata = as.matrix(read.csv(paste0(thepath, filename), sep = \"\\t\", header = T))\n",
    "head(thedata)"
   ]
  },
  {
   "cell_type": "markdown",
   "metadata": {},
   "source": [
    "Recall that the problem is \n",
    "\\begin{align}\n",
    "\\min_{q \\geq 0} \\, c^T q \\\\\n",
    "\\text{s.t. }Nq \\geq d\n",
    "\\end{align}\n",
    "$c$ is simply a vector of ones, the size of the number of commodities. $N$ is a matrix of amount of nutrients in each commodity. $d$ is the required daily allowance of each nutrient."
   ]
  },
  {
   "cell_type": "code",
   "execution_count": null,
   "metadata": {},
   "outputs": [],
   "source": [
    "nbCommodities = length(which(thedata[, 1] != \"\")) - 1\n",
    "names = thedata[1:nbCommodities, 1]\n",
    "themat = matrix(as.numeric(thedata[, 3:13]), ncol = 11)\n",
    "themat[is.na(themat)] = 0\n",
    "N = t(themat[1:nbCommodities, 3:11])\n",
    "d = themat[(nbCommodities + 1), 3:11]\n",
    "c = rep(1, nbCommodities)"
   ]
  },
  {
   "cell_type": "markdown",
   "metadata": {},
   "source": [
    "Now lets try out gurobi!"
   ]
  },
  {
   "cell_type": "code",
   "execution_count": null,
   "metadata": {},
   "outputs": [],
   "source": [
    "?gurobi"
   ]
  },
  {
   "cell_type": "code",
   "execution_count": null,
   "metadata": {},
   "outputs": [],
   "source": [
    "?gurobi_model"
   ]
  },
  {
   "cell_type": "code",
   "execution_count": null,
   "metadata": {},
   "outputs": [],
   "source": [
    "?gurobi_params"
   ]
  },
  {
   "cell_type": "markdown",
   "metadata": {},
   "source": [
    "So mapping from gurobis notation to ours, \n",
    "* `A` = $N$\n",
    "* `obj` = $c$\n",
    "* `sense` = '$>$'\n",
    "* `rhs` = $d$\n",
    "* `modelsense` = '$\\min$'"
   ]
  },
  {
   "cell_type": "code",
   "execution_count": null,
   "metadata": {},
   "outputs": [],
   "source": [
    "tic()\n",
    "result = gurobi(list(A = N, obj = c, sense = \">\", rhs = d, modelsense = \"min\"))  #, params = list(OutputFlag = 0)) \n",
    "toc()"
   ]
  },
  {
   "cell_type": "markdown",
   "metadata": {},
   "source": [
    "Let's see what is in the `result` list"
   ]
  },
  {
   "cell_type": "code",
   "execution_count": null,
   "metadata": {},
   "outputs": [],
   "source": [
    "str(result)"
   ]
  },
  {
   "cell_type": "markdown",
   "metadata": {},
   "source": [
    "We are after the optimal solutions `x`, the dual solution `pi` and the value function `objval`"
   ]
  },
  {
   "cell_type": "code",
   "execution_count": null,
   "metadata": {},
   "outputs": [],
   "source": [
    "q_yearly = result$x * 365  # convert into yearly cost\n",
    "pi = result$pi\n",
    "cost_daily = result$objval"
   ]
  },
  {
   "cell_type": "markdown",
   "metadata": {},
   "source": [
    "Our optimal solution (including only foods which are non-zero)"
   ]
  },
  {
   "cell_type": "code",
   "execution_count": null,
   "metadata": {},
   "outputs": [],
   "source": [
    "print(\"*** optimal solution ***\")\n",
    "toKeep = which(q_yearly != 0)\n",
    "foods = q_yearly[toKeep]\n",
    "names(foods) = names[toKeep]\n",
    "print(foods)\n",
    "print(paste0(\"Total cost (optimal)= \", sum(q_yearly * c)))"
   ]
  },
  {
   "cell_type": "markdown",
   "metadata": {},
   "source": [
    "Compare with Stigler's solution"
   ]
  },
  {
   "cell_type": "code",
   "execution_count": null,
   "metadata": {},
   "outputs": [],
   "source": [
    "print(\"*** Stigler's solution ***\")\n",
    "toKeepStigler = c(1, 15, 46, 52, 69)\n",
    "foods_stigler = c(13.33, 3.84, 4.11, 1.85, 16.8)\n",
    "names(foods_stigler) = names[toKeepStigler]\n",
    "print(foods_stigler)\n",
    "print(paste0(\"Total cost (Stigler)= \", sum(foods_stigler * c[toKeepStigler])))"
   ]
  },
  {
   "cell_type": "markdown",
   "metadata": {},
   "source": [
    "Alternatively we could use `R's` `glpk`"
   ]
  },
  {
   "cell_type": "code",
   "execution_count": null,
   "metadata": {},
   "outputs": [],
   "source": [
    "tic()\n",
    "print(\"*** Optimal solution using Rglpk ***\")\n",
    "resGlpk = Rglpk_solve_LP(obj = c, mat = N, dir = rep(\">\", length(d)), rhs = d, bounds = NULL, \n",
    "    max = FALSE, control = list())\n",
    "print(resGlpk$optimum * 365)\n",
    "toc()"
   ]
  }
 ],
 "metadata": {
  "kernelspec": {
   "display_name": "R",
   "language": "R",
   "name": "ir"
  },
  "language_info": {
   "codemirror_mode": "r",
   "file_extension": ".r",
   "mimetype": "text/x-r-source",
   "name": "R",
   "pygments_lexer": "r",
   "version": "3.5.2"
  }
 },
 "nbformat": 4,
 "nbformat_minor": 2
}
