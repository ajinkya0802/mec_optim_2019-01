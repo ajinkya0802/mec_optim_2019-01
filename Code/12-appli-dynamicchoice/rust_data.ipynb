{
 "cells": [
  {
   "cell_type": "markdown",
   "metadata": {},
   "source": [
    "# Lecture 12"
   ]
  },
  {
   "cell_type": "markdown",
   "metadata": {},
   "source": [
    "The Rust (1987) data is a bit unusual, in that it is an exceptionally popular model, but the data doesn't exist in any sort of particularly clean format! So we will extract the original data ourselves and see if we can form the requiste variables ourselves. This is also a good chance to flex your `R` programming skills."
   ]
  },
  {
   "cell_type": "markdown",
   "metadata": {},
   "source": [
    "We are going to be working with the actual Rust (1987) dataset, retrieved from https://editorialexpress.com/jrust/nfxp.html. In our working directory we have the 9 `.asc` files in the `dat` subdirectory as well as the `nfxp_man.pdf` readme document. Let's see if we can reconstruct the Rust dataset using this."
   ]
  },
  {
   "cell_type": "markdown",
   "metadata": {},
   "source": [
    "The following excerpt from John Rust's original `nfxp_man.pdf` file for\n",
    "the bus data describes the nature and format of the data files:\n",
    "\n",
    "    This directory contains data on odometer readings and dates of\n",
    "    bus engine replacements of 162 buses in the fleet of the Madison\n",
    "    Metropolitan Bus Company that were in operation sometime during\n",
    "    the period December, 1974 to May, 1985. The documentation of\n",
    "    the contents of the files is described in more detail in chapter\n",
    "    4 of the documentation manual.\n",
    "    \n",
    "    The directory contains the following files, each\n",
    "    corresponding to a different model/vintage of bus\n",
    "    in the Madison Metro fleet:\n",
    "    \n",
    "    D309.ASC     110x4 matrix for Davidson model 309 buses\n",
    "    G870.ASC     36x15 matrix for Grumman model 870 buses\n",
    "    RT50.ASC     60x4  matrix for Chance model RT50 buses\n",
    "    T8H203.ASC   81x48 matrix for GMC model T8H203 buses\n",
    "    A452372.ASC 137x18 matrix for GMC model A4523 buses, model year 1972\n",
    "    A452374.ASC 137x10 matrix for GMC model A4523 buses, model year 1974\n",
    "    A530872.ASC 137x18 matrix for GMC model A5308 buses, model year 1972\n",
    "    A530874.ASC 137x12 matrix for GMC model A5308 buses, model year 1974\n",
    "    A530875.ASC 128x37 matrix for GMC model A5308 buses, model year 1975\n",
    "    \n",
    "    The data in each file are vectorized into a single column: e.g.\n",
    "    D309.ASC is a 440x1 vector consisting of the columns\n",
    "    of a 110x4 matrix stacked on top of each other consecutively."
   ]
  },
  {
   "cell_type": "markdown",
   "metadata": {},
   "source": [
    "Because the `.asc` files are stored as vectors, we need to supply information about the sizes of each matrix."
   ]
  },
  {
   "cell_type": "code",
   "execution_count": 5,
   "metadata": {},
   "outputs": [],
   "source": [
    "thepath = getwd()\n",
    "\n",
    "fileArr = c(\"d309.asc\", \"g870.asc\", \"rt50.asc\", \"t8h203.asc\", \"a530875.asc\", \"a530874.asc\", \"a452374.asc\", \n",
    "    \"a530872.asc\", \"a452372.asc\")\n",
    "nbRowsArr = c(110, 36, 60, 81, 128, 137, 137, 137, 137)\n",
    "nbColsArr = c(4, 15, 4, 48, 37, 12, 10, 18, 18)"
   ]
  },
  {
   "cell_type": "markdown",
   "metadata": {},
   "source": [
    "Note: it looks like Rust does not include the d309 model, which is why he has $162$ buses in his dataset, not $166$. Hence we will not include `d309.asc`. "
   ]
  },
  {
   "cell_type": "code",
   "execution_count": 6,
   "metadata": {},
   "outputs": [
    {
     "name": "stdout",
     "output_type": "stream",
     "text": [
      "[1] \"The number of buses is 162\"\n",
      "[1] \"The number of months is 126\"\n"
     ]
    }
   ],
   "source": [
    "toInclude = 2:9\n",
    "fileArr = fileArr[toInclude]\n",
    "nbRowsArr = nbRowsArr[toInclude]\n",
    "nbColsArr = nbColsArr[toInclude]\n",
    "\n",
    "nbBuses = sum(nbColsArr)\n",
    "nbMonths = max(nbRowsArr)-11 # number of months in the period\n",
    "print(paste0('The number of buses is ', nbBuses))\n",
    "print(paste0('The number of months is ', nbMonths))"
   ]
  },
  {
   "cell_type": "markdown",
   "metadata": {},
   "source": [
    "    Each of the 8 raw data files is a GAUSS matrix file. That is, each file is read into memory as a $T \\times M$ matrix, where M is the number of buses in the file and T is the number of data records per bus. Thus, each column of the matrix file contains data for a single bus. The first eleven rows of the matrix are the file “header” that contains information on the bus number, its date of purchase, the dates and odometer readings of engine replacements, and the month and year of the first odometer observation. The remaining T - 11 rows of the matrix contain the consecutive monthly odometer readings for each bus (with the exception of a two month gap to account for the strike during July and August, 1980). Specifically, the header contains the following information:"
   ]
  },
  {
   "cell_type": "markdown",
   "metadata": {},
   "source": [
    "| Row  | Item                            | Sample Entries |\n",
    "| ---- | ------------------------------- | -------------- |\n",
    "| 1    | bus number                      | 5297           |\n",
    "| 2    | month purchased                 | 8              |\n",
    "| 3    | year purchased                  | 75             |\n",
    "| 4    | month of 1st engine replacement | 4              |\n",
    "| 5    | year of 1st engine replacement  | 79             |\n",
    "| 6    | odometer at replacement         | 153400         |\n",
    "| 7    | month of 2nd replacement        | 0              |\n",
    "| 8    | year of 2nd replacement         | 0              |\n",
    "| 9    | odometer at replacement         | 0              |\n",
    "| 10   | month odometer data begins      | 9              |\n",
    "| 11   | year odometer data begins       | 75             |\n",
    "| 12   | odometer reading 1              | 2353           |\n",
    "| 13   | odometer reading 2              | 6299           |\n",
    "| 14   | odometer reading 3              | 10479          |"
   ]
  },
  {
   "cell_type": "code",
   "execution_count": 7,
   "metadata": {},
   "outputs": [
    {
     "name": "stdout",
     "output_type": "stream",
     "text": [
      "[1] \"Group = 1; Nb at least one = 0; Nb no repl = 15\"\n",
      "[1] \"Group = 2; Nb at least one = 0; Nb no repl = 4\"\n",
      "[1] \"Group = 3; Nb at least one = 27; Nb no repl = 21\"\n",
      "[1] \"Group = 4; Nb at least one = 32; Nb no repl = 5\"\n",
      "[1] \"Group = 5; Nb at least one = 11; Nb no repl = 1\"\n",
      "[1] \"Group = 6; Nb at least one = 7; Nb no repl = 3\"\n",
      "[1] \"Group = 7; Nb at least one = 18; Nb no repl = 0\"\n",
      "[1] \"Group = 8; Nb at least one = 18; Nb no repl = 0\"\n"
     ]
    }
   ],
   "source": [
    "n = 10 # Number of discretization points\n",
    "omax = 450000 # maximum odometer value\n",
    "\n",
    "curbus = 0  # Current bus \n",
    "output = array(NA, dim = c(nbBuses, nbMonths, 3))  # output matrix\n",
    "outputdiscr = array(NA, dim = c(nbBuses, nbMonths, 3))  # Discretized output matrix \n",
    "transitions = matrix(0, n, n)  # Transition matrix\n",
    "pi0_x = rep(0, n)\n",
    "\n",
    "for (busType in 1:length(fileArr)) {\n",
    "    \n",
    "    thefile = fileArr[busType]\n",
    "    nbRows = nbRowsArr[busType]\n",
    "    nbCols = nbColsArr[busType]\n",
    "    tmpdata = read.csv(paste0(thepath, \"/datafiles/\", thefile), sep = \"\\r\", header = FALSE)\n",
    "    if (dim(tmpdata)[1] != nbRows * nbCols) {\n",
    "        stop(\"Unexpected size\")\n",
    "    }\n",
    "    tmpdata = matrix(as.matrix(tmpdata), nbRows, nbCols)\n",
    "    \n",
    "    print(paste0(\"Group = \", busType, \"; Nb at least one = \", length(which(tmpdata[6, \n",
    "        ] != 0)), \"; Nb no repl = \", length(which(tmpdata[6, ] == 0))))\n",
    "    \n",
    "    for (busId in 1:nbCols) {\n",
    "        curbus = curbus + 1\n",
    "        # First replacement\n",
    "        mo1stRepl = tmpdata[4, busId]\n",
    "        ye1stRepl = tmpdata[5, busId]\n",
    "        odo1stRep = tmpdata[6, busId]\n",
    "        \n",
    "        # Second replacments\n",
    "        mo2ndRepl = tmpdata[7, busId]\n",
    "        ye2ndRepl = tmpdata[8, busId]\n",
    "        odo2ndRep = tmpdata[9, busId]\n",
    "        \n",
    "        # First odometer reading\n",
    "        moDataBegins = tmpdata[10, busId]\n",
    "        yeDataBegins = tmpdata[11, busId]\n",
    "        \n",
    "        # Odometer reading\n",
    "        odoReadings = tmpdata[12:nbRows, busId]\n",
    "        wasreplacedonce = ifelse((odoReadings >= odo1stRep) & (odo1stRep > 0), 1, \n",
    "            0)\n",
    "        wasreplacedtwice = ifelse((odoReadings >= odo2ndRep) & (odo2ndRep > 0), 1, \n",
    "            0)\n",
    "        howmanytimesreplaced = wasreplacedonce + wasreplacedtwice\n",
    "        \n",
    "        correctedmileage = odoReadings + howmanytimesreplaced * (howmanytimesreplaced - \n",
    "            2) * odo1stRep - 0.5 * howmanytimesreplaced * (howmanytimesreplaced - \n",
    "            1) * odo1stRep  # Resets odometer to 0 when engine is replaced\n",
    "        \n",
    "        \n",
    "        output[curbus, 1:(nbRows - 12), 1] = howmanytimesreplaced[2:(nbRows - 11)] - \n",
    "            howmanytimesreplaced[1:(nbRows - 12)]  # replacement decision\n",
    "        output[curbus, 1:(nbRows - 12), 2] = correctedmileage[1:(nbRows - 12)]  #corrected odometer readings\n",
    "        output[curbus, 1:(nbRows - 12), 3] = tmpdata[13:nbRows, busId] - tmpdata[12:(nbRows - \n",
    "            1), busId]  # change in odometer readings\n",
    "        \n",
    "        outputdiscr[curbus, , 1] = output[curbus, , 1]  # Copy copy across replacement decision\n",
    "        outputdiscr[curbus, , 2:3] = ceiling(n * output[curbus, , 2:3]/omax)  # Discretize\n",
    "        \n",
    "        # Compute transition matrix, conditional on no replacement\n",
    "        for (t in 1:(nbRows - 13)) {\n",
    "            # If no replacement\n",
    "            if (outputdiscr[curbus, t, 1] == FALSE) {\n",
    "                i = outputdiscr[curbus, t, 2]\n",
    "                j = outputdiscr[curbus, t + 1, 2]\n",
    "                transitions[i, j] = transitions[i, j] + 1\n",
    "                pi0_x[i] = pi0_x[i] + 1\n",
    "            }\n",
    "        }\n",
    "    }\n",
    "}"
   ]
  },
  {
   "cell_type": "markdown",
   "metadata": {},
   "source": [
    "Recall that\n",
    "\\begin{align*}\n",
    "U_{x}=\\sum_{x^{\\prime}}\\beta U_{x^{\\prime}}P_{x^{\\prime}|x0}-\\log\\pi_{0|x}\n",
    "\\end{align*}\n",
    "Which can be rewritten as \n",
    "\\begin{align*}\n",
    "L = (\\beta \\Pi - I) U\n",
    "\\end{align*}\n",
    "And when $(\\beta \\Pi - I)$ is invertible\n",
    "\\begin{align*}\n",
    "U=(\\beta\\Pi-I)^{-1}L\n",
    "\\end{align*}\n",
    "Thus if we normalize `transitions` this will give us $\\Pi_{xx'}$ and `pi_0_x` is $L$. Hence"
   ]
  },
  {
   "cell_type": "code",
   "execution_count": 20,
   "metadata": {},
   "outputs": [
    {
     "data": {
      "text/html": [
       "<table>\n",
       "<tbody>\n",
       "\t<tr><td>0.9392312 </td><td>0.0607688 </td><td>0.00000000</td><td>0.00000000</td><td>0.00000000</td><td>0.0000000 </td><td>0.00000000</td><td>0.00000000</td><td>0.00000000</td></tr>\n",
       "\t<tr><td>0.0000000 </td><td>0.9419670 </td><td>0.05803299</td><td>0.00000000</td><td>0.00000000</td><td>0.0000000 </td><td>0.00000000</td><td>0.00000000</td><td>0.00000000</td></tr>\n",
       "\t<tr><td>0.0000000 </td><td>0.0000000 </td><td>0.95080321</td><td>0.04919679</td><td>0.00000000</td><td>0.0000000 </td><td>0.00000000</td><td>0.00000000</td><td>0.00000000</td></tr>\n",
       "\t<tr><td>0.0000000 </td><td>0.0000000 </td><td>0.00000000</td><td>0.93762677</td><td>0.06237323</td><td>0.0000000 </td><td>0.00000000</td><td>0.00000000</td><td>0.00000000</td></tr>\n",
       "\t<tr><td>0.0000000 </td><td>0.0000000 </td><td>0.00000000</td><td>0.00000000</td><td>0.95513180</td><td>0.0448682 </td><td>0.00000000</td><td>0.00000000</td><td>0.00000000</td></tr>\n",
       "\t<tr><td>0.0000000 </td><td>0.0000000 </td><td>0.00000000</td><td>0.00000000</td><td>0.00000000</td><td>0.9683350 </td><td>0.03166496</td><td>0.00000000</td><td>0.00000000</td></tr>\n",
       "\t<tr><td>0.0000000 </td><td>0.0000000 </td><td>0.00000000</td><td>0.00000000</td><td>0.00000000</td><td>0.0000000 </td><td>0.96969697</td><td>0.03030303</td><td>0.00000000</td></tr>\n",
       "\t<tr><td>0.0000000 </td><td>0.0000000 </td><td>0.00000000</td><td>0.00000000</td><td>0.00000000</td><td>0.0000000 </td><td>0.00000000</td><td>0.98630137</td><td>0.01369863</td></tr>\n",
       "\t<tr><td>0.0000000 </td><td>0.0000000 </td><td>0.00000000</td><td>0.00000000</td><td>0.00000000</td><td>0.0000000 </td><td>0.00000000</td><td>0.00000000</td><td>1.00000000</td></tr>\n",
       "</tbody>\n",
       "</table>\n"
      ],
      "text/latex": [
       "\\begin{tabular}{lllllllll}\n",
       "\t 0.9392312  & 0.0607688  & 0.00000000 & 0.00000000 & 0.00000000 & 0.0000000  & 0.00000000 & 0.00000000 & 0.00000000\\\\\n",
       "\t 0.0000000  & 0.9419670  & 0.05803299 & 0.00000000 & 0.00000000 & 0.0000000  & 0.00000000 & 0.00000000 & 0.00000000\\\\\n",
       "\t 0.0000000  & 0.0000000  & 0.95080321 & 0.04919679 & 0.00000000 & 0.0000000  & 0.00000000 & 0.00000000 & 0.00000000\\\\\n",
       "\t 0.0000000  & 0.0000000  & 0.00000000 & 0.93762677 & 0.06237323 & 0.0000000  & 0.00000000 & 0.00000000 & 0.00000000\\\\\n",
       "\t 0.0000000  & 0.0000000  & 0.00000000 & 0.00000000 & 0.95513180 & 0.0448682  & 0.00000000 & 0.00000000 & 0.00000000\\\\\n",
       "\t 0.0000000  & 0.0000000  & 0.00000000 & 0.00000000 & 0.00000000 & 0.9683350  & 0.03166496 & 0.00000000 & 0.00000000\\\\\n",
       "\t 0.0000000  & 0.0000000  & 0.00000000 & 0.00000000 & 0.00000000 & 0.0000000  & 0.96969697 & 0.03030303 & 0.00000000\\\\\n",
       "\t 0.0000000  & 0.0000000  & 0.00000000 & 0.00000000 & 0.00000000 & 0.0000000  & 0.00000000 & 0.98630137 & 0.01369863\\\\\n",
       "\t 0.0000000  & 0.0000000  & 0.00000000 & 0.00000000 & 0.00000000 & 0.0000000  & 0.00000000 & 0.00000000 & 1.00000000\\\\\n",
       "\\end{tabular}\n"
      ],
      "text/markdown": [
       "\n",
       "| 0.9392312  | 0.0607688  | 0.00000000 | 0.00000000 | 0.00000000 | 0.0000000  | 0.00000000 | 0.00000000 | 0.00000000 |\n",
       "| 0.0000000  | 0.9419670  | 0.05803299 | 0.00000000 | 0.00000000 | 0.0000000  | 0.00000000 | 0.00000000 | 0.00000000 |\n",
       "| 0.0000000  | 0.0000000  | 0.95080321 | 0.04919679 | 0.00000000 | 0.0000000  | 0.00000000 | 0.00000000 | 0.00000000 |\n",
       "| 0.0000000  | 0.0000000  | 0.00000000 | 0.93762677 | 0.06237323 | 0.0000000  | 0.00000000 | 0.00000000 | 0.00000000 |\n",
       "| 0.0000000  | 0.0000000  | 0.00000000 | 0.00000000 | 0.95513180 | 0.0448682  | 0.00000000 | 0.00000000 | 0.00000000 |\n",
       "| 0.0000000  | 0.0000000  | 0.00000000 | 0.00000000 | 0.00000000 | 0.9683350  | 0.03166496 | 0.00000000 | 0.00000000 |\n",
       "| 0.0000000  | 0.0000000  | 0.00000000 | 0.00000000 | 0.00000000 | 0.0000000  | 0.96969697 | 0.03030303 | 0.00000000 |\n",
       "| 0.0000000  | 0.0000000  | 0.00000000 | 0.00000000 | 0.00000000 | 0.0000000  | 0.00000000 | 0.98630137 | 0.01369863 |\n",
       "| 0.0000000  | 0.0000000  | 0.00000000 | 0.00000000 | 0.00000000 | 0.0000000  | 0.00000000 | 0.00000000 | 1.00000000 |\n",
       "\n"
      ],
      "text/plain": [
       "      [,1]      [,2]      [,3]       [,4]       [,5]       [,6]      [,7]      \n",
       " [1,] 0.9392312 0.0607688 0.00000000 0.00000000 0.00000000 0.0000000 0.00000000\n",
       " [2,] 0.0000000 0.9419670 0.05803299 0.00000000 0.00000000 0.0000000 0.00000000\n",
       " [3,] 0.0000000 0.0000000 0.95080321 0.04919679 0.00000000 0.0000000 0.00000000\n",
       " [4,] 0.0000000 0.0000000 0.00000000 0.93762677 0.06237323 0.0000000 0.00000000\n",
       " [5,] 0.0000000 0.0000000 0.00000000 0.00000000 0.95513180 0.0448682 0.00000000\n",
       " [6,] 0.0000000 0.0000000 0.00000000 0.00000000 0.00000000 0.9683350 0.03166496\n",
       " [7,] 0.0000000 0.0000000 0.00000000 0.00000000 0.00000000 0.0000000 0.96969697\n",
       " [8,] 0.0000000 0.0000000 0.00000000 0.00000000 0.00000000 0.0000000 0.00000000\n",
       " [9,] 0.0000000 0.0000000 0.00000000 0.00000000 0.00000000 0.0000000 0.00000000\n",
       "      [,8]       [,9]      \n",
       " [1,] 0.00000000 0.00000000\n",
       " [2,] 0.00000000 0.00000000\n",
       " [3,] 0.00000000 0.00000000\n",
       " [4,] 0.00000000 0.00000000\n",
       " [5,] 0.00000000 0.00000000\n",
       " [6,] 0.00000000 0.00000000\n",
       " [7,] 0.03030303 0.00000000\n",
       " [8,] 0.98630137 0.01369863\n",
       " [9,] 0.00000000 1.00000000"
      ]
     },
     "metadata": {},
     "output_type": "display_data"
    }
   ],
   "source": [
    "# Specify beta (model is not well identified unless we specify beta)\n",
    "beta = .99\n",
    "trim = 10\n",
    "\n",
    "# Compute stochastic matrix\n",
    "Pi = transitions / rowSums(transitions)\n",
    "\n",
    "# Get rid of NAN's\n",
    "Pi_trim = Pi[1:trim, 1:trim]\n",
    "\n",
    "Pi_trim"
   ]
  },
  {
   "cell_type": "markdown",
   "metadata": {},
   "source": [
    "In the data, we have that conditional on $y = 0$, the highest state is an absorbing state, i.e. $Pr(x' = 9 | x = 9) = 1$, because there is no exogenous replacement. This will make estimation impossible, so we will exogenous set $Pr(x' = 9 | x = 9) = .75$ and the remaining mass tranisitions to state 1."
   ]
  },
  {
   "cell_type": "code",
   "execution_count": 21,
   "metadata": {},
   "outputs": [],
   "source": [
    "Pi_trim[9,9] = .75\n",
    "Pi_trim[9,1] = .25"
   ]
  },
  {
   "cell_type": "code",
   "execution_count": 23,
   "metadata": {},
   "outputs": [
    {
     "name": "stdout",
     "output_type": "stream",
     "text": [
      "            [,1]\n",
      " [1,] -13.592099\n",
      " [2,] -11.962172\n",
      " [3,] -10.275594\n",
      " [4,]  -8.328148\n",
      " [5,]  -7.564851\n",
      " [6,]  -6.613311\n",
      " [7,]  -6.657610\n",
      " [8,]  -7.931109\n",
      " [9,] -13.067333\n"
     ]
    }
   ],
   "source": [
    "L = pi0_x[1:trim]\n",
    "L_norm = L / sum(L)\n",
    "\n",
    "U = solve(beta* Pi_trim - diag(trim)) %*% L_norm\n",
    "\n",
    "print(U)"
   ]
  }
 ],
 "metadata": {
  "kernelspec": {
   "display_name": "R",
   "language": "R",
   "name": "ir"
  },
  "language_info": {
   "codemirror_mode": "r",
   "file_extension": ".r",
   "mimetype": "text/x-r-source",
   "name": "R",
   "pygments_lexer": "r",
   "version": "3.5.2"
  }
 },
 "nbformat": 4,
 "nbformat_minor": 2
}
