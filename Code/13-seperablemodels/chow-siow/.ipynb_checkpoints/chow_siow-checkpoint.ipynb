{
 "cells": [
  {
   "cell_type": "markdown",
   "metadata": {},
   "source": [
    "# Lecture 13"
   ]
  },
  {
   "cell_type": "markdown",
   "metadata": {},
   "source": [
    "We will be working with the original data of Chow and Siow (2006). First, let's load it up:"
   ]
  },
  {
   "cell_type": "code",
   "execution_count": 4,
   "metadata": {},
   "outputs": [],
   "source": [
    "thepath = getwd()\n",
    "\n",
    "nSingles= read.table(paste0(thepath, \"/n_singles.txt\"))\n",
    "marr = read.table(paste0(thepath, \"/marr.txt\"))\n",
    "nAvail = read.table(paste0(thepath, \"/n_avail.txt\"))"
   ]
  },
  {
   "cell_type": "markdown",
   "metadata": {},
   "source": [
    "`nSingles` is a $60 \\times 2$ vector of the number of singles in 1970. Each row is an age from $16 - 75$ and column $1$ is men and column $2$ is women."
   ]
  },
  {
   "cell_type": "markdown",
   "metadata": {},
   "source": [
    "`marr` is a $60 \\times 60$ matrix of the number of matches between each men and women of different ages. For example entry $1,1$ are the number of matches between 16 year old men and 16 year old women.\n",
    "\n",
    "We are only interested in the ages from $16-40$."
   ]
  },
  {
   "cell_type": "code",
   "execution_count": 5,
   "metadata": {},
   "outputs": [],
   "source": [
    "nbCateg = 25  # keep only the 16-40 yo population\n",
    "\n",
    "muhat_x0 = nSingles[1:nbCateg, 1]\n",
    "muhat_0y = nSingles[1:nbCateg, 2]\n",
    "muhat_xy = as.matrix(marr[1:nbCateg, 1:nbCateg])\n",
    "Nh = sum(muhat_xy) + sum(muhat_x0) + sum(muhat_0y)\n",
    "\n",
    "muhat_xy = muhat_xy/Nh\n",
    "muhat_x0 = muhat_x0/Nh\n",
    "muhat_0y = muhat_0y/Nh\n",
    "\n",
    "n_x = apply(X = muhat_xy, MARGIN = 1, FUN = sum) + muhat_x0\n",
    "m_y = apply(X = muhat_xy, MARGIN = 2, FUN = sum) + muhat_0y\n",
    "\n",
    "nbX = nbY = nbCateg\n",
    "xs = matrix(rep(1:nbX, nbY), nbX, nbY)\n",
    "ys = matrix(rep(1:nbY, nbX), nbX, nbY, byrow = T)"
   ]
  },
  {
   "cell_type": "markdown",
   "metadata": {},
   "source": [
    "We will form our $\\Phi_{xy}$ such that\n",
    "\\begin{align*}\n",
    "\\Phi_{xy}^\\lambda = \\sum_{k} \\lambda_k \\phi_{xy}^k\n",
    "\\end{align*}\n",
    "Let $\\phi_{xy}^1 = -(x - y)^2$. Then $\\phi_{xy}$ are the following basis functions\n",
    "* $\\phi_{xy} = \\phi_{xy}^1 ((x + y)/2)^2$\n",
    "\n",
    "* $\\phi_{xy} = \\phi_{xy}^1 ((x + y - 2)/2)^2$\n",
    "\n",
    "* $\\phi_{xy} = \\phi_{xy}^1 (x + y - 1)^2$"
   ]
  },
  {
   "cell_type": "code",
   "execution_count": 6,
   "metadata": {},
   "outputs": [],
   "source": [
    "# Form Phi matrix\n",
    "phi1_xy = -c((xs - ys)^2)\n",
    "phimat = cbind(phi1_xy, phi1_xy * c(((xs + ys)/2)^2), phi1_xy * c(((xs + ys - 2)/2)^2), \n",
    "    phi1_xy * c(((xs + ys - 1))^2))\n",
    "nbK = dim(phimat)[2] # number of basis\n",
    "\n",
    "# Standardize\n",
    "phimat_mean = apply(X = phimat, MARGIN = 2, FUN = mean)\n",
    "phimat_stdev = apply(X = phimat, MARGIN = 2, FUN = sd)\n",
    "phimat = (phimat - matrix(phimat_mean, nbX * nbY, nbK, byrow = T))/matrix(phimat_stdev, \n",
    "    nbX * nbY, nbK, byrow = T)"
   ]
  },
  {
   "cell_type": "markdown",
   "metadata": {},
   "source": [
    "Recall that our we are seeking to find the solution to the dual problem\n",
    "\\begin{align*}\n",
    "\\min_{u,v,\\lambda}\\left\\{\n",
    "\\sum_{x}n_{x}u_{x}+\\sum_{y}m_{y}v_{y}+2\\sum_{xy}\\sqrt{n_{x}m_{y}}\\exp\\left(\n",
    "\\frac{\\Phi_{xy}^{\\lambda}-u_{x}-v_{y}}{2}\\right) \n",
    "+\\sum_{x}n_{x}\\exp\\left(  -u_{x}\\right)  +\\sum_{y}m_{y}\\exp\\left(\n",
    "-v_{y}\\right)  -\\sum_{xy}\\hat{\\mu}_{xy}\\Phi_{xy}^{\\lambda}%\n",
    "\\right\\}.\n",
    "\\end{align*}\n",
    "Let's set up our objective function"
   ]
  },
  {
   "cell_type": "code",
   "execution_count": 20,
   "metadata": {},
   "outputs": [],
   "source": [
    "ObjFunc = function(uvlambda) {\n",
    "    u_x = uvlambda[1:nbX]\n",
    "    v_y = uvlambda[(nbX + 1):(nbX + nbY)]\n",
    "    lambda = uvlambda[(nbX + nbY + 1):(nbX + nbY + nbK)]\n",
    "    Phi_xy = matrix(phimat %*% matrix(lambda, ncol = 1), nbX, nbY)\n",
    "    mu_xy = exp((Phi_xy - matrix(u_x, nbX, nbY) - matrix(v_y, nbX, nbY, byrow = T))/2)\n",
    "    mu_x0 = exp(-u_x)\n",
    "    mu_0y = exp(-v_y)\n",
    "    \n",
    "    val = sum(n_x * u_x) + sum(m_y * v_y) - sum(muhat_xy * Phi_xy) + 2 * sum(mu_xy) + \n",
    "        sum(mu_x0) + sum(mu_0y)\n",
    "    grad_u = n_x - apply(X = mu_xy, MARGIN = 1, FUN = sum) - mu_x0\n",
    "    grad_v = m_y - apply(X = mu_xy, MARGIN = 2, FUN = sum) - mu_0y\n",
    "   \n",
    "    grad_lambda = c(mu_xy - muhat_xy) %*% phimat\n",
    "    grad = c(grad_u, grad_v, grad_lambda)\n",
    "    res = val\n",
    "    attr(res, \"gradient\") = grad\n",
    "    # print(val) print(max(abs(uvlambda)))\n",
    "    return(res)\n",
    "}"
   ]
  },
  {
   "cell_type": "markdown",
   "metadata": {},
   "source": [
    "And solve it using a non-linear solver"
   ]
  },
  {
   "cell_type": "code",
   "execution_count": 21,
   "metadata": {},
   "outputs": [
    {
     "name": "stdout",
     "output_type": "stream",
     "text": [
      "[1] \"The value function is 7.67702566726597\"\n"
     ]
    }
   ],
   "source": [
    "options(warn = -1)\n",
    "outcome = nlm(ObjFunc, rep(0, nbX + nbY + nbK), iterlim = 1000)\n",
    "uvlambdahat = outcome$estimate\n",
    "lambdahat = uvlambdahat[(nbX + nbY + 1):(nbX + nbY + nbK)]\n",
    "valuefunction = ObjFunc(uvlambdahat)\n",
    "print(paste0(\"The value function is \", outcome$minimum))"
   ]
  }
 ],
 "metadata": {
  "kernelspec": {
   "display_name": "R",
   "language": "R",
   "name": "ir"
  },
  "language_info": {
   "codemirror_mode": "r",
   "file_extension": ".r",
   "mimetype": "text/x-r-source",
   "name": "R",
   "pygments_lexer": "r",
   "version": "3.5.2"
  }
 },
 "nbformat": 4,
 "nbformat_minor": 2
}
