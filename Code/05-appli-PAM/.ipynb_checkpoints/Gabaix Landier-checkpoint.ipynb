{
 "cells": [
  {
   "cell_type": "markdown",
   "metadata": {},
   "source": [
    "# Lecture 5"
   ]
  },
  {
   "cell_type": "markdown",
   "metadata": {},
   "source": [
    "## A model of CEO wages"
   ]
  },
  {
   "cell_type": "markdown",
   "metadata": {},
   "source": [
    "First let's load up our data, and see what we have to work with."
   ]
  },
  {
   "cell_type": "code",
   "execution_count": 1,
   "metadata": {},
   "outputs": [
    {
     "data": {
      "text/html": [
       "<table>\n",
       "<thead><tr><th scope=col>yeara</th><th scope=col>mktcap</th><th scope=col>nFIRM</th><th scope=col>comp</th><th scope=col>nCEO</th></tr></thead>\n",
       "<tbody>\n",
       "\t<tr><td>2000     </td><td>17522.96 </td><td>333      </td><td>22024.619</td><td> 74      </td></tr>\n",
       "\t<tr><td>1991     </td><td>19737.49 </td><td>129      </td><td>       NA</td><td> NA      </td></tr>\n",
       "\t<tr><td>1992     </td><td>23442.23 </td><td>107      </td><td>       NA</td><td> NA      </td></tr>\n",
       "\t<tr><td>1993     </td><td>23647.43 </td><td>118      </td><td>       NA</td><td> NA      </td></tr>\n",
       "\t<tr><td>1994     </td><td>22099.51 </td><td>126      </td><td> 5147.516</td><td>175      </td></tr>\n",
       "\t<tr><td>1995     </td><td>22952.51 </td><td>154      </td><td> 6280.350</td><td>208      </td></tr>\n",
       "</tbody>\n",
       "</table>\n"
      ],
      "text/latex": [
       "\\begin{tabular}{lllll}\n",
       " yeara & mktcap & nFIRM & comp & nCEO\\\\\n",
       "\\hline\n",
       "\t 2000      & 17522.96  & 333       & 22024.619 &  74      \\\\\n",
       "\t 1991      & 19737.49  & 129       &        NA &  NA      \\\\\n",
       "\t 1992      & 23442.23  & 107       &        NA &  NA      \\\\\n",
       "\t 1993      & 23647.43  & 118       &        NA &  NA      \\\\\n",
       "\t 1994      & 22099.51  & 126       &  5147.516 & 175      \\\\\n",
       "\t 1995      & 22952.51  & 154       &  6280.350 & 208      \\\\\n",
       "\\end{tabular}\n"
      ],
      "text/markdown": [
       "\n",
       "| yeara | mktcap | nFIRM | comp | nCEO |\n",
       "|---|---|---|---|---|\n",
       "| 2000      | 17522.96  | 333       | 22024.619 |  74       |\n",
       "| 1991      | 19737.49  | 129       |        NA |  NA       |\n",
       "| 1992      | 23442.23  | 107       |        NA |  NA       |\n",
       "| 1993      | 23647.43  | 118       |        NA |  NA       |\n",
       "| 1994      | 22099.51  | 126       |  5147.516 | 175       |\n",
       "| 1995      | 22952.51  | 154       |  6280.350 | 208       |\n",
       "\n"
      ],
      "text/plain": [
       "     yeara mktcap   nFIRM comp      nCEO\n",
       "[1,] 2000  17522.96 333   22024.619  74 \n",
       "[2,] 1991  19737.49 129          NA  NA \n",
       "[3,] 1992  23442.23 107          NA  NA \n",
       "[4,] 1993  23647.43 118          NA  NA \n",
       "[5,] 1994  22099.51 126    5147.516 175 \n",
       "[6,] 1995  22952.51 154    6280.350 208 "
      ]
     },
     "metadata": {},
     "output_type": "display_data"
    }
   ],
   "source": [
    "thePath = getwd()\n",
    "data = as.matrix(read.csv(paste0(thePath,\"/data_Gabaix_Landier.csv\"), header = TRUE))\n",
    "head(data)"
   ]
  },
  {
   "cell_type": "markdown",
   "metadata": {},
   "source": [
    "We will focus on data from year 2003."
   ]
  },
  {
   "cell_type": "code",
   "execution_count": 2,
   "metadata": {},
   "outputs": [],
   "source": [
    "year = 2003\n",
    "data2003 = data[data[,1]==year,,drop=FALSE]"
   ]
  },
  {
   "cell_type": "markdown",
   "metadata": {},
   "source": [
    "The size of the firm is expressed as \n",
    "\\begin{align*}\n",
    "S(n) = A n^{-\\alpha} \\iff log(S(n)) = log(A) - \\alpha log(n)\n",
    "\\end{align*}\n",
    "And the wage is obtained by:\n",
    "\\begin{align*}\n",
    "w\\left(  n\\right)  = \\frac{A^{\\gamma}BC}{\\alpha\\gamma-\\beta}\n",
    "n  ^{-\\alpha\\gamma+\\beta}\n",
    "\\end{align*}\n",
    "We shall use Gabaix-Landier's calibrated values\n",
    "\\begin{align*}\n",
    "\\beta\\simeq2/3,\\gamma\\simeq1,BC=2.8\\ast10^{-6}\n",
    "\\end{align*}\n",
    "So in order compute the wage function, it remains to find the value of $A$. This will simply be a regression of $\\log(S)$ on $n$."
   ]
  },
  {
   "cell_type": "markdown",
   "metadata": {},
   "source": [
    "We will normalize compensation to insure compensation and mktcap are in the same order of magnitude. We need to get rid of the `NA`'s in the data (separately for compensation and market cap) and sort in decreasing order."
   ]
  },
  {
   "cell_type": "code",
   "execution_count": 3,
   "metadata": {},
   "outputs": [],
   "source": [
    "comp = data2003[,4] / 1000 # insures same order of magnitude\n",
    "comp = comp[which(!is.na(comp))]\n",
    "comp = comp[order(comp, decreasing = T)]\n",
    "\n",
    "mktcap = data2003[,2]\n",
    "mktcap = mktcap[which(!is.na(mktcap))]\n",
    "mktcap = mktcap[order(mktcap, decreasing = T)]"
   ]
  },
  {
   "cell_type": "code",
   "execution_count": 4,
   "metadata": {},
   "outputs": [],
   "source": [
    "N = length(mktcap)\n",
    "n = 1:N"
   ]
  },
  {
   "cell_type": "markdown",
   "metadata": {},
   "source": [
    "Regress firm rank against mktcap"
   ]
  },
  {
   "cell_type": "code",
   "execution_count": 5,
   "metadata": {},
   "outputs": [
    {
     "data": {
      "text/plain": [
       "\n",
       "Call:\n",
       "lm(formula = log(mktcap) ~ log(n))\n",
       "\n",
       "Residuals:\n",
       "     Min       1Q   Median       3Q      Max \n",
       "-1.41075 -0.05161  0.03054  0.06535  0.14352 \n",
       "\n",
       "Coefficients:\n",
       "             Estimate Std. Error t value Pr(>|t|)    \n",
       "(Intercept) 15.514000   0.027602   562.1   <2e-16 ***\n",
       "log(n)      -0.982167   0.005195  -189.0   <2e-16 ***\n",
       "---\n",
       "Signif. codes:  0 '***' 0.001 '**' 0.01 '*' 0.05 '.' 0.1 ' ' 1\n",
       "\n",
       "Residual standard error: 0.1133 on 498 degrees of freedom\n",
       "Multiple R-squared:  0.9863,\tAdjusted R-squared:  0.9862 \n",
       "F-statistic: 3.574e+04 on 1 and 498 DF,  p-value: < 2.2e-16\n"
      ]
     },
     "metadata": {},
     "output_type": "display_data"
    }
   ],
   "source": [
    "ols = lm(log(mktcap) ~ log(n))\n",
    "summary(ols)"
   ]
  },
  {
   "cell_type": "code",
   "execution_count": 6,
   "metadata": {},
   "outputs": [],
   "source": [
    "A = unname(exp(ols$coefficients[1]))"
   ]
  },
  {
   "cell_type": "markdown",
   "metadata": {},
   "source": [
    "Wage function \n",
    "\\begin{align*}\n",
    "w\\left(  n\\right)  = \\frac{A^{\\gamma}BC}{\\alpha\\gamma-\\beta}\n",
    "n  ^{-\\alpha\\gamma+\\beta}\n",
    "\\end{align*}"
   ]
  },
  {
   "cell_type": "code",
   "execution_count": 7,
   "metadata": {},
   "outputs": [],
   "source": [
    "wage = function(x){\n",
    "  return ((A^gamma * B * C)/ (alpha * gamma - beta) * x^(-alpha*gamma + beta))\n",
    "}"
   ]
  },
  {
   "cell_type": "markdown",
   "metadata": {},
   "source": [
    "We can compute the theoretical wage function and plot it against the realized wage function.\n"
   ]
  },
  {
   "cell_type": "code",
   "execution_count": 8,
   "metadata": {},
   "outputs": [
    {
     "data": {
      "image/png": "[encoded data removed]",
      "text/plain": [
       "plot without title"
      ]
     },
     "metadata": {},
     "output_type": "display_data"
    }
   ],
   "source": [
    "# Calibration \n",
    "\n",
    "beta = 2/3\n",
    "B = 1\n",
    "C = 2.8E-6\n",
    "alpha = gamma = 1\n",
    "X_max = 0\n",
    "\n",
    "# Wage estimation \n",
    "\n",
    "W = mapply(wage, 1:N)\n",
    "\n",
    "plot(W, type = \"l\", xlab = \"Rank\")\n",
    "points(1:N, comp, pch = 3, col = \"blue\")"
   ]
  },
  {
   "cell_type": "code",
   "execution_count": null,
   "metadata": {},
   "outputs": [],
   "source": []
  }
 ],
 "metadata": {
  "kernelspec": {
   "display_name": "R",
   "language": "R",
   "name": "ir"
  },
  "language_info": {
   "codemirror_mode": "r",
   "file_extension": ".r",
   "mimetype": "text/x-r-source",
   "name": "R",
   "pygments_lexer": "r",
   "version": "3.5.2"
  }
 },
 "nbformat": 4,
 "nbformat_minor": 2
}
